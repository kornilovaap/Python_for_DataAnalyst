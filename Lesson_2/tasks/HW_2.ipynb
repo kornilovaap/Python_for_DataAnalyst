{
  "nbformat": 4,
  "nbformat_minor": 0,
  "metadata": {
    "colab": {
      "name": "Untitled2.ipynb",
      "provenance": [],
      "authorship_tag": "ABX9TyMZ+8Y3echdSh5UEwZq34H/"
    },
    "kernelspec": {
      "name": "python3",
      "display_name": "Python 3"
    },
    "language_info": {
      "name": "python"
    }
  },
  "cells": [
    {
      "cell_type": "code",
      "metadata": {
        "id": "hdocAbQQKbDp"
      },
      "source": [
        "import pandas as pd\n"
      ],
      "execution_count": null,
      "outputs": []
    },
    {
      "cell_type": "code",
      "metadata": {
        "id": "mE1XjCiAKgE_"
      },
      "source": [
        "# У метода read есть доп. параметры, которые можно указывать в скобках: \n",
        "df_marketing = pd.read_csv('marketing_campaign.csv', header = 0, sep = ',')\n",
        "df_subscribers = pd.read_csv('subscribers.csv', header = 0, sep = ',')\n",
        "df_users = pd.read_csv('users.csv', header = 0, sep = ',')"
      ],
      "execution_count": null,
      "outputs": []
    },
    {
      "cell_type": "code",
      "metadata": {
        "colab": {
          "base_uri": "https://localhost:8080/",
          "height": 206
        },
        "id": "5-2UY2nDYW5G",
        "outputId": "83b410a5-7dba-45fa-edd0-d440bb3ad35b"
      },
      "source": [
        "df_marketing.head()"
      ],
      "execution_count": null,
      "outputs": [
        {
          "output_type": "execute_result",
          "data": {
            "text/html": [
              "<div>\n",
              "<style scoped>\n",
              "    .dataframe tbody tr th:only-of-type {\n",
              "        vertical-align: middle;\n",
              "    }\n",
              "\n",
              "    .dataframe tbody tr th {\n",
              "        vertical-align: top;\n",
              "    }\n",
              "\n",
              "    .dataframe thead th {\n",
              "        text-align: right;\n",
              "    }\n",
              "</style>\n",
              "<table border=\"1\" class=\"dataframe\">\n",
              "  <thead>\n",
              "    <tr style=\"text-align: right;\">\n",
              "      <th></th>\n",
              "      <th>user_id</th>\n",
              "      <th>date_served</th>\n",
              "      <th>marketing_channel</th>\n",
              "      <th>variant</th>\n",
              "      <th>language_displayed</th>\n",
              "      <th>converted</th>\n",
              "    </tr>\n",
              "  </thead>\n",
              "  <tbody>\n",
              "    <tr>\n",
              "      <th>0</th>\n",
              "      <td>a1000</td>\n",
              "      <td>1/1/18</td>\n",
              "      <td>House Ads</td>\n",
              "      <td>personalization</td>\n",
              "      <td>English</td>\n",
              "      <td>True</td>\n",
              "    </tr>\n",
              "    <tr>\n",
              "      <th>1</th>\n",
              "      <td>a1001</td>\n",
              "      <td>1/1/18</td>\n",
              "      <td>House Ads</td>\n",
              "      <td>personalization</td>\n",
              "      <td>English</td>\n",
              "      <td>True</td>\n",
              "    </tr>\n",
              "    <tr>\n",
              "      <th>2</th>\n",
              "      <td>a1002</td>\n",
              "      <td>1/1/18</td>\n",
              "      <td>House Ads</td>\n",
              "      <td>personalization</td>\n",
              "      <td>English</td>\n",
              "      <td>True</td>\n",
              "    </tr>\n",
              "    <tr>\n",
              "      <th>3</th>\n",
              "      <td>a1003</td>\n",
              "      <td>1/1/18</td>\n",
              "      <td>House Ads</td>\n",
              "      <td>personalization</td>\n",
              "      <td>English</td>\n",
              "      <td>True</td>\n",
              "    </tr>\n",
              "    <tr>\n",
              "      <th>4</th>\n",
              "      <td>a1004</td>\n",
              "      <td>1/1/18</td>\n",
              "      <td>House Ads</td>\n",
              "      <td>personalization</td>\n",
              "      <td>English</td>\n",
              "      <td>True</td>\n",
              "    </tr>\n",
              "  </tbody>\n",
              "</table>\n",
              "</div>"
            ],
            "text/plain": [
              "  user_id date_served  ... language_displayed converted\n",
              "0   a1000      1/1/18  ...            English      True\n",
              "1   a1001      1/1/18  ...            English      True\n",
              "2   a1002      1/1/18  ...            English      True\n",
              "3   a1003      1/1/18  ...            English      True\n",
              "4   a1004      1/1/18  ...            English      True\n",
              "\n",
              "[5 rows x 6 columns]"
            ]
          },
          "metadata": {},
          "execution_count": 8
        }
      ]
    },
    {
      "cell_type": "code",
      "metadata": {
        "colab": {
          "base_uri": "https://localhost:8080/",
          "height": 206
        },
        "id": "zyctZ659Yj2F",
        "outputId": "ec765e78-5b79-419c-9f96-8db88d9173b4"
      },
      "source": [
        "df_subscribers.head()"
      ],
      "execution_count": null,
      "outputs": [
        {
          "output_type": "execute_result",
          "data": {
            "text/html": [
              "<div>\n",
              "<style scoped>\n",
              "    .dataframe tbody tr th:only-of-type {\n",
              "        vertical-align: middle;\n",
              "    }\n",
              "\n",
              "    .dataframe tbody tr th {\n",
              "        vertical-align: top;\n",
              "    }\n",
              "\n",
              "    .dataframe thead th {\n",
              "        text-align: right;\n",
              "    }\n",
              "</style>\n",
              "<table border=\"1\" class=\"dataframe\">\n",
              "  <thead>\n",
              "    <tr style=\"text-align: right;\">\n",
              "      <th></th>\n",
              "      <th>user_id</th>\n",
              "      <th>subscribing_channel</th>\n",
              "      <th>date_subscribed</th>\n",
              "      <th>date_canceled</th>\n",
              "      <th>is_retained</th>\n",
              "    </tr>\n",
              "  </thead>\n",
              "  <tbody>\n",
              "    <tr>\n",
              "      <th>0</th>\n",
              "      <td>a1000</td>\n",
              "      <td>House Ads</td>\n",
              "      <td>1/1/18</td>\n",
              "      <td>NaN</td>\n",
              "      <td>True</td>\n",
              "    </tr>\n",
              "    <tr>\n",
              "      <th>1</th>\n",
              "      <td>a1001</td>\n",
              "      <td>House Ads</td>\n",
              "      <td>1/1/18</td>\n",
              "      <td>NaN</td>\n",
              "      <td>True</td>\n",
              "    </tr>\n",
              "    <tr>\n",
              "      <th>2</th>\n",
              "      <td>a1002</td>\n",
              "      <td>House Ads</td>\n",
              "      <td>1/1/18</td>\n",
              "      <td>NaN</td>\n",
              "      <td>True</td>\n",
              "    </tr>\n",
              "    <tr>\n",
              "      <th>3</th>\n",
              "      <td>a1003</td>\n",
              "      <td>House Ads</td>\n",
              "      <td>1/1/18</td>\n",
              "      <td>NaN</td>\n",
              "      <td>True</td>\n",
              "    </tr>\n",
              "    <tr>\n",
              "      <th>4</th>\n",
              "      <td>a1004</td>\n",
              "      <td>House Ads</td>\n",
              "      <td>1/1/18</td>\n",
              "      <td>NaN</td>\n",
              "      <td>True</td>\n",
              "    </tr>\n",
              "  </tbody>\n",
              "</table>\n",
              "</div>"
            ],
            "text/plain": [
              "  user_id subscribing_channel date_subscribed date_canceled is_retained\n",
              "0   a1000           House Ads          1/1/18           NaN        True\n",
              "1   a1001           House Ads          1/1/18           NaN        True\n",
              "2   a1002           House Ads          1/1/18           NaN        True\n",
              "3   a1003           House Ads          1/1/18           NaN        True\n",
              "4   a1004           House Ads          1/1/18           NaN        True"
            ]
          },
          "metadata": {},
          "execution_count": 9
        }
      ]
    },
    {
      "cell_type": "code",
      "metadata": {
        "colab": {
          "base_uri": "https://localhost:8080/",
          "height": 206
        },
        "id": "j9jJ0TnbYodA",
        "outputId": "ef5049bc-6f87-4073-ae9b-fb05b7facfc1"
      },
      "source": [
        "df_users.head()"
      ],
      "execution_count": null,
      "outputs": [
        {
          "output_type": "execute_result",
          "data": {
            "text/html": [
              "<div>\n",
              "<style scoped>\n",
              "    .dataframe tbody tr th:only-of-type {\n",
              "        vertical-align: middle;\n",
              "    }\n",
              "\n",
              "    .dataframe tbody tr th {\n",
              "        vertical-align: top;\n",
              "    }\n",
              "\n",
              "    .dataframe thead th {\n",
              "        text-align: right;\n",
              "    }\n",
              "</style>\n",
              "<table border=\"1\" class=\"dataframe\">\n",
              "  <thead>\n",
              "    <tr style=\"text-align: right;\">\n",
              "      <th></th>\n",
              "      <th>user_id</th>\n",
              "      <th>age_group</th>\n",
              "      <th>language_preferred</th>\n",
              "    </tr>\n",
              "  </thead>\n",
              "  <tbody>\n",
              "    <tr>\n",
              "      <th>0</th>\n",
              "      <td>a1000</td>\n",
              "      <td>0-18 years</td>\n",
              "      <td>English</td>\n",
              "    </tr>\n",
              "    <tr>\n",
              "      <th>1</th>\n",
              "      <td>a1001</td>\n",
              "      <td>19-24 years</td>\n",
              "      <td>English</td>\n",
              "    </tr>\n",
              "    <tr>\n",
              "      <th>2</th>\n",
              "      <td>a1002</td>\n",
              "      <td>24-30 years</td>\n",
              "      <td>English</td>\n",
              "    </tr>\n",
              "    <tr>\n",
              "      <th>3</th>\n",
              "      <td>a1003</td>\n",
              "      <td>30-36 years</td>\n",
              "      <td>English</td>\n",
              "    </tr>\n",
              "    <tr>\n",
              "      <th>4</th>\n",
              "      <td>a1004</td>\n",
              "      <td>36-45 years</td>\n",
              "      <td>English</td>\n",
              "    </tr>\n",
              "  </tbody>\n",
              "</table>\n",
              "</div>"
            ],
            "text/plain": [
              "  user_id    age_group language_preferred\n",
              "0   a1000   0-18 years            English\n",
              "1   a1001  19-24 years            English\n",
              "2   a1002  24-30 years            English\n",
              "3   a1003  30-36 years            English\n",
              "4   a1004  36-45 years            English"
            ]
          },
          "metadata": {},
          "execution_count": 12
        }
      ]
    },
    {
      "cell_type": "code",
      "metadata": {
        "colab": {
          "base_uri": "https://localhost:8080/"
        },
        "id": "8mYvFesQY-EM",
        "outputId": "343a7357-2550-44ae-a925-65765ccb311b"
      },
      "source": [
        "df_marketing.shape"
      ],
      "execution_count": null,
      "outputs": [
        {
          "output_type": "execute_result",
          "data": {
            "text/plain": [
              "(10037, 6)"
            ]
          },
          "metadata": {},
          "execution_count": 14
        }
      ]
    },
    {
      "cell_type": "code",
      "metadata": {
        "colab": {
          "base_uri": "https://localhost:8080/"
        },
        "id": "iY5enaX2ZMBZ",
        "outputId": "6c48cbec-e4f1-4931-99b4-20174ce84fef"
      },
      "source": [
        "df_subscribers.shape"
      ],
      "execution_count": null,
      "outputs": [
        {
          "output_type": "execute_result",
          "data": {
            "text/plain": [
              "(10037, 5)"
            ]
          },
          "metadata": {},
          "execution_count": 15
        }
      ]
    },
    {
      "cell_type": "code",
      "metadata": {
        "colab": {
          "base_uri": "https://localhost:8080/"
        },
        "id": "CkmziNBjZPUp",
        "outputId": "3fdf460e-03f7-4973-8984-f5134fd9247b"
      },
      "source": [
        "df_users.shape"
      ],
      "execution_count": null,
      "outputs": [
        {
          "output_type": "execute_result",
          "data": {
            "text/plain": [
              "(10037, 3)"
            ]
          },
          "metadata": {},
          "execution_count": 16
        }
      ]
    },
    {
      "cell_type": "markdown",
      "metadata": {
        "id": "QGjM4dOKiVfO"
      },
      "source": [
        "# 2. Объединить"
      ]
    },
    {
      "cell_type": "code",
      "metadata": {
        "id": "_uDs20zNZTRl"
      },
      "source": [
        "df = df_marketing.merge(df_subscribers, on='user_id', how='inner').merge(df_users, on='user_id', how='inner')\n"
      ],
      "execution_count": null,
      "outputs": []
    },
    {
      "cell_type": "code",
      "metadata": {
        "colab": {
          "base_uri": "https://localhost:8080/",
          "height": 295
        },
        "id": "7jdHTrq5aHcw",
        "outputId": "29d0927c-5a36-4c70-d525-5153c3b65902"
      },
      "source": [
        "df.head()"
      ],
      "execution_count": null,
      "outputs": [
        {
          "output_type": "execute_result",
          "data": {
            "text/html": [
              "<div>\n",
              "<style scoped>\n",
              "    .dataframe tbody tr th:only-of-type {\n",
              "        vertical-align: middle;\n",
              "    }\n",
              "\n",
              "    .dataframe tbody tr th {\n",
              "        vertical-align: top;\n",
              "    }\n",
              "\n",
              "    .dataframe thead th {\n",
              "        text-align: right;\n",
              "    }\n",
              "</style>\n",
              "<table border=\"1\" class=\"dataframe\">\n",
              "  <thead>\n",
              "    <tr style=\"text-align: right;\">\n",
              "      <th></th>\n",
              "      <th>user_id</th>\n",
              "      <th>date_served</th>\n",
              "      <th>marketing_channel</th>\n",
              "      <th>variant</th>\n",
              "      <th>language_displayed</th>\n",
              "      <th>converted</th>\n",
              "      <th>subscribing_channel</th>\n",
              "      <th>date_subscribed</th>\n",
              "      <th>date_canceled</th>\n",
              "      <th>is_retained</th>\n",
              "      <th>age_group</th>\n",
              "      <th>language_preferred</th>\n",
              "    </tr>\n",
              "  </thead>\n",
              "  <tbody>\n",
              "    <tr>\n",
              "      <th>0</th>\n",
              "      <td>a1000</td>\n",
              "      <td>1/1/18</td>\n",
              "      <td>House Ads</td>\n",
              "      <td>personalization</td>\n",
              "      <td>English</td>\n",
              "      <td>True</td>\n",
              "      <td>House Ads</td>\n",
              "      <td>1/1/18</td>\n",
              "      <td>NaN</td>\n",
              "      <td>True</td>\n",
              "      <td>0-18 years</td>\n",
              "      <td>English</td>\n",
              "    </tr>\n",
              "    <tr>\n",
              "      <th>1</th>\n",
              "      <td>a1001</td>\n",
              "      <td>1/1/18</td>\n",
              "      <td>House Ads</td>\n",
              "      <td>personalization</td>\n",
              "      <td>English</td>\n",
              "      <td>True</td>\n",
              "      <td>House Ads</td>\n",
              "      <td>1/1/18</td>\n",
              "      <td>NaN</td>\n",
              "      <td>True</td>\n",
              "      <td>19-24 years</td>\n",
              "      <td>English</td>\n",
              "    </tr>\n",
              "    <tr>\n",
              "      <th>2</th>\n",
              "      <td>a1002</td>\n",
              "      <td>1/1/18</td>\n",
              "      <td>House Ads</td>\n",
              "      <td>personalization</td>\n",
              "      <td>English</td>\n",
              "      <td>True</td>\n",
              "      <td>House Ads</td>\n",
              "      <td>1/1/18</td>\n",
              "      <td>NaN</td>\n",
              "      <td>True</td>\n",
              "      <td>24-30 years</td>\n",
              "      <td>English</td>\n",
              "    </tr>\n",
              "    <tr>\n",
              "      <th>3</th>\n",
              "      <td>a1003</td>\n",
              "      <td>1/1/18</td>\n",
              "      <td>House Ads</td>\n",
              "      <td>personalization</td>\n",
              "      <td>English</td>\n",
              "      <td>True</td>\n",
              "      <td>House Ads</td>\n",
              "      <td>1/1/18</td>\n",
              "      <td>NaN</td>\n",
              "      <td>True</td>\n",
              "      <td>30-36 years</td>\n",
              "      <td>English</td>\n",
              "    </tr>\n",
              "    <tr>\n",
              "      <th>4</th>\n",
              "      <td>a1004</td>\n",
              "      <td>1/1/18</td>\n",
              "      <td>House Ads</td>\n",
              "      <td>personalization</td>\n",
              "      <td>English</td>\n",
              "      <td>True</td>\n",
              "      <td>House Ads</td>\n",
              "      <td>1/1/18</td>\n",
              "      <td>NaN</td>\n",
              "      <td>True</td>\n",
              "      <td>36-45 years</td>\n",
              "      <td>English</td>\n",
              "    </tr>\n",
              "  </tbody>\n",
              "</table>\n",
              "</div>"
            ],
            "text/plain": [
              "  user_id date_served  ...    age_group language_preferred\n",
              "0   a1000      1/1/18  ...   0-18 years            English\n",
              "1   a1001      1/1/18  ...  19-24 years            English\n",
              "2   a1002      1/1/18  ...  24-30 years            English\n",
              "3   a1003      1/1/18  ...  30-36 years            English\n",
              "4   a1004      1/1/18  ...  36-45 years            English\n",
              "\n",
              "[5 rows x 12 columns]"
            ]
          },
          "metadata": {},
          "execution_count": 28
        }
      ]
    },
    {
      "cell_type": "code",
      "metadata": {
        "colab": {
          "base_uri": "https://localhost:8080/"
        },
        "id": "WhsUG_4-aTod",
        "outputId": "6460e841-bd5d-4af6-97a3-85b8ec5ff0a2"
      },
      "source": [
        "df.info()"
      ],
      "execution_count": null,
      "outputs": [
        {
          "output_type": "stream",
          "name": "stdout",
          "text": [
            "<class 'pandas.core.frame.DataFrame'>\n",
            "Int64Index: 10037 entries, 0 to 10036\n",
            "Data columns (total 12 columns):\n",
            " #   Column               Non-Null Count  Dtype \n",
            "---  ------               --------------  ----- \n",
            " 0   user_id              10037 non-null  object\n",
            " 1   date_served          10021 non-null  object\n",
            " 2   marketing_channel    10022 non-null  object\n",
            " 3   variant              10037 non-null  object\n",
            " 4   language_displayed   10037 non-null  object\n",
            " 5   converted            10022 non-null  object\n",
            " 6   subscribing_channel  1856 non-null   object\n",
            " 7   date_subscribed      1856 non-null   object\n",
            " 8   date_canceled        577 non-null    object\n",
            " 9   is_retained          1856 non-null   object\n",
            " 10  age_group            10037 non-null  object\n",
            " 11  language_preferred   10037 non-null  object\n",
            "dtypes: object(12)\n",
            "memory usage: 1019.4+ KB\n"
          ]
        }
      ]
    },
    {
      "cell_type": "markdown",
      "metadata": {
        "id": "oJuloChJeX8D"
      },
      "source": [
        "# 3. Эффективность каналов\n"
      ]
    },
    {
      "cell_type": "code",
      "metadata": {
        "colab": {
          "base_uri": "https://localhost:8080/"
        },
        "id": "vBErrwroeuKa",
        "outputId": "844a8298-3877-4c78-d304-e6d1ab6fbf80"
      },
      "source": [
        "df['marketing_channel'].loc[df['converted']==True].value_counts()"
      ],
      "execution_count": null,
      "outputs": [
        {
          "output_type": "execute_result",
          "data": {
            "text/plain": [
              "House Ads    298\n",
              "Instagram    265\n",
              "Facebook     237\n",
              "Email        193\n",
              "Push          83\n",
              "Name: marketing_channel, dtype: int64"
            ]
          },
          "metadata": {},
          "execution_count": 34
        }
      ]
    },
    {
      "cell_type": "markdown",
      "metadata": {
        "id": "R-Mp6CqDf_9y"
      },
      "source": [
        "# 4. Самая ранняя дата подписки"
      ]
    },
    {
      "cell_type": "code",
      "metadata": {
        "colab": {
          "base_uri": "https://localhost:8080/"
        },
        "id": "-DCt2z8agHyZ",
        "outputId": "7b928d0b-5987-48f9-bdbc-e23260b90008"
      },
      "source": [
        "pd.to_datetime(df['date_subscribed']).sort_values().head(1)"
      ],
      "execution_count": null,
      "outputs": [
        {
          "output_type": "execute_result",
          "data": {
            "text/plain": [
              "0   2018-01-01\n",
              "Name: date_subscribed, dtype: datetime64[ns]"
            ]
          },
          "metadata": {},
          "execution_count": 47
        }
      ]
    },
    {
      "cell_type": "markdown",
      "metadata": {
        "id": "9MhHlADuiNnL"
      },
      "source": [
        "# 5. Портрет по возрасту и языку"
      ]
    },
    {
      "cell_type": "code",
      "metadata": {
        "colab": {
          "base_uri": "https://localhost:8080/"
        },
        "id": "_3xb_9XViRxU",
        "outputId": "368cf02c-077c-46d6-ebac-12ca07b99e40"
      },
      "source": [
        "df[['age_group', 'language_preferred']].loc[df['is_retained'] == True].value_counts()"
      ],
      "execution_count": null,
      "outputs": [
        {
          "output_type": "execute_result",
          "data": {
            "text/plain": [
              "age_group    language_preferred\n",
              "19-24 years  English               304\n",
              "24-30 years  English               250\n",
              "0-18 years   English               210\n",
              "30-36 years  English               114\n",
              "45-55 years  English               108\n",
              "36-45 years  English               107\n",
              "55+ years    English                86\n",
              "24-30 years  German                 15\n",
              "19-24 years  German                 11\n",
              "0-18 years   German                 10\n",
              "19-24 years  Spanish                10\n",
              "30-36 years  Spanish                 7\n",
              "45-55 years  Spanish                 6\n",
              "0-18 years   Spanish                 6\n",
              "36-45 years  Spanish                 5\n",
              "24-30 years  Spanish                 5\n",
              "55+ years    Spanish                 5\n",
              "24-30 years  Arabic                  3\n",
              "0-18 years   Arabic                  3\n",
              "45-55 years  German                  3\n",
              "55+ years    German                  2\n",
              "36-45 years  German                  2\n",
              "45-55 years  Arabic                  2\n",
              "55+ years    Arabic                  2\n",
              "36-45 years  Arabic                  1\n",
              "19-24 years  Arabic                  1\n",
              "30-36 years  German                  1\n",
              "dtype: int64"
            ]
          },
          "metadata": {},
          "execution_count": 46
        }
      ]
    }
  ]
}