{
  "nbformat": 4,
  "nbformat_minor": 0,
  "metadata": {
    "colab": {
      "name": "Untitled1.ipynb",
      "provenance": [],
      "authorship_tag": "ABX9TyOpwdZoA0P3V1pN1Owh8B9U"
    },
    "kernelspec": {
      "name": "python3",
      "display_name": "Python 3"
    },
    "language_info": {
      "name": "python"
    }
  },
  "cells": [
    {
      "cell_type": "markdown",
      "source": [
        "# 1. Взять все признаки из датасета с урока. Применить модель Random Forest."
      ],
      "metadata": {
        "id": "RgscpuFahuT1"
      }
    },
    {
      "cell_type": "code",
      "execution_count": 47,
      "metadata": {
        "colab": {
          "base_uri": "https://localhost:8080/",
          "height": 831
        },
        "id": "0LU8A08HVNPE",
        "outputId": "7133d6ce-4349-4558-8254-c29fe86ab5b2"
      },
      "outputs": [
        {
          "output_type": "stream",
          "name": "stderr",
          "text": [
            "/usr/local/lib/python3.7/dist-packages/sklearn/utils/deprecation.py:87: FutureWarning: Function load_boston is deprecated; `load_boston` is deprecated in 1.0 and will be removed in 1.2.\n",
            "\n",
            "    The Boston housing prices dataset has an ethical problem. You can refer to\n",
            "    the documentation of this function for further details.\n",
            "\n",
            "    The scikit-learn maintainers therefore strongly discourage the use of this\n",
            "    dataset unless the purpose of the code is to study and educate about\n",
            "    ethical issues in data science and machine learning.\n",
            "\n",
            "    In this special case, you can fetch the dataset from the original\n",
            "    source::\n",
            "\n",
            "        import pandas as pd\n",
            "        import numpy as np\n",
            "\n",
            "\n",
            "        data_url = \"http://lib.stat.cmu.edu/datasets/boston\"\n",
            "        raw_df = pd.read_csv(data_url, sep=\"\\s+\", skiprows=22, header=None)\n",
            "        data = np.hstack([raw_df.values[::2, :], raw_df.values[1::2, :2]])\n",
            "        target = raw_df.values[1::2, 2]\n",
            "\n",
            "    Alternative datasets include the California housing dataset (i.e.\n",
            "    :func:`~sklearn.datasets.fetch_california_housing`) and the Ames housing\n",
            "    dataset. You can load the datasets as follows::\n",
            "\n",
            "        from sklearn.datasets import fetch_california_housing\n",
            "        housing = fetch_california_housing()\n",
            "\n",
            "    for the California housing dataset and::\n",
            "\n",
            "        from sklearn.datasets import fetch_openml\n",
            "        housing = fetch_openml(name=\"house_prices\", as_frame=True)\n",
            "\n",
            "    for the Ames housing dataset.\n",
            "    \n",
            "  warnings.warn(msg, category=FutureWarning)\n"
          ]
        },
        {
          "output_type": "execute_result",
          "data": {
            "text/html": [
              "\n",
              "  <div id=\"df-0a8d4927-71b7-400e-8903-0f47b04546ae\">\n",
              "    <div class=\"colab-df-container\">\n",
              "      <div>\n",
              "<style scoped>\n",
              "    .dataframe tbody tr th:only-of-type {\n",
              "        vertical-align: middle;\n",
              "    }\n",
              "\n",
              "    .dataframe tbody tr th {\n",
              "        vertical-align: top;\n",
              "    }\n",
              "\n",
              "    .dataframe thead th {\n",
              "        text-align: right;\n",
              "    }\n",
              "</style>\n",
              "<table border=\"1\" class=\"dataframe\">\n",
              "  <thead>\n",
              "    <tr style=\"text-align: right;\">\n",
              "      <th></th>\n",
              "      <th>CRIM</th>\n",
              "      <th>ZN</th>\n",
              "      <th>INDUS</th>\n",
              "      <th>CHAS</th>\n",
              "      <th>NOX</th>\n",
              "      <th>RM</th>\n",
              "      <th>AGE</th>\n",
              "      <th>DIS</th>\n",
              "      <th>RAD</th>\n",
              "      <th>TAX</th>\n",
              "      <th>PTRATIO</th>\n",
              "      <th>B</th>\n",
              "      <th>LSTAT</th>\n",
              "    </tr>\n",
              "  </thead>\n",
              "  <tbody>\n",
              "    <tr>\n",
              "      <th>0</th>\n",
              "      <td>0.00632</td>\n",
              "      <td>18.0</td>\n",
              "      <td>2.31</td>\n",
              "      <td>0.0</td>\n",
              "      <td>0.538</td>\n",
              "      <td>6.575</td>\n",
              "      <td>65.2</td>\n",
              "      <td>4.0900</td>\n",
              "      <td>1.0</td>\n",
              "      <td>296.0</td>\n",
              "      <td>15.3</td>\n",
              "      <td>396.90</td>\n",
              "      <td>4.98</td>\n",
              "    </tr>\n",
              "    <tr>\n",
              "      <th>1</th>\n",
              "      <td>0.02731</td>\n",
              "      <td>0.0</td>\n",
              "      <td>7.07</td>\n",
              "      <td>0.0</td>\n",
              "      <td>0.469</td>\n",
              "      <td>6.421</td>\n",
              "      <td>78.9</td>\n",
              "      <td>4.9671</td>\n",
              "      <td>2.0</td>\n",
              "      <td>242.0</td>\n",
              "      <td>17.8</td>\n",
              "      <td>396.90</td>\n",
              "      <td>9.14</td>\n",
              "    </tr>\n",
              "    <tr>\n",
              "      <th>2</th>\n",
              "      <td>0.02729</td>\n",
              "      <td>0.0</td>\n",
              "      <td>7.07</td>\n",
              "      <td>0.0</td>\n",
              "      <td>0.469</td>\n",
              "      <td>7.185</td>\n",
              "      <td>61.1</td>\n",
              "      <td>4.9671</td>\n",
              "      <td>2.0</td>\n",
              "      <td>242.0</td>\n",
              "      <td>17.8</td>\n",
              "      <td>392.83</td>\n",
              "      <td>4.03</td>\n",
              "    </tr>\n",
              "    <tr>\n",
              "      <th>3</th>\n",
              "      <td>0.03237</td>\n",
              "      <td>0.0</td>\n",
              "      <td>2.18</td>\n",
              "      <td>0.0</td>\n",
              "      <td>0.458</td>\n",
              "      <td>6.998</td>\n",
              "      <td>45.8</td>\n",
              "      <td>6.0622</td>\n",
              "      <td>3.0</td>\n",
              "      <td>222.0</td>\n",
              "      <td>18.7</td>\n",
              "      <td>394.63</td>\n",
              "      <td>2.94</td>\n",
              "    </tr>\n",
              "    <tr>\n",
              "      <th>4</th>\n",
              "      <td>0.06905</td>\n",
              "      <td>0.0</td>\n",
              "      <td>2.18</td>\n",
              "      <td>0.0</td>\n",
              "      <td>0.458</td>\n",
              "      <td>7.147</td>\n",
              "      <td>54.2</td>\n",
              "      <td>6.0622</td>\n",
              "      <td>3.0</td>\n",
              "      <td>222.0</td>\n",
              "      <td>18.7</td>\n",
              "      <td>396.90</td>\n",
              "      <td>5.33</td>\n",
              "    </tr>\n",
              "  </tbody>\n",
              "</table>\n",
              "</div>\n",
              "      <button class=\"colab-df-convert\" onclick=\"convertToInteractive('df-0a8d4927-71b7-400e-8903-0f47b04546ae')\"\n",
              "              title=\"Convert this dataframe to an interactive table.\"\n",
              "              style=\"display:none;\">\n",
              "        \n",
              "  <svg xmlns=\"http://www.w3.org/2000/svg\" height=\"24px\"viewBox=\"0 0 24 24\"\n",
              "       width=\"24px\">\n",
              "    <path d=\"M0 0h24v24H0V0z\" fill=\"none\"/>\n",
              "    <path d=\"M18.56 5.44l.94 2.06.94-2.06 2.06-.94-2.06-.94-.94-2.06-.94 2.06-2.06.94zm-11 1L8.5 8.5l.94-2.06 2.06-.94-2.06-.94L8.5 2.5l-.94 2.06-2.06.94zm10 10l.94 2.06.94-2.06 2.06-.94-2.06-.94-.94-2.06-.94 2.06-2.06.94z\"/><path d=\"M17.41 7.96l-1.37-1.37c-.4-.4-.92-.59-1.43-.59-.52 0-1.04.2-1.43.59L10.3 9.45l-7.72 7.72c-.78.78-.78 2.05 0 2.83L4 21.41c.39.39.9.59 1.41.59.51 0 1.02-.2 1.41-.59l7.78-7.78 2.81-2.81c.8-.78.8-2.07 0-2.86zM5.41 20L4 18.59l7.72-7.72 1.47 1.35L5.41 20z\"/>\n",
              "  </svg>\n",
              "      </button>\n",
              "      \n",
              "  <style>\n",
              "    .colab-df-container {\n",
              "      display:flex;\n",
              "      flex-wrap:wrap;\n",
              "      gap: 12px;\n",
              "    }\n",
              "\n",
              "    .colab-df-convert {\n",
              "      background-color: #E8F0FE;\n",
              "      border: none;\n",
              "      border-radius: 50%;\n",
              "      cursor: pointer;\n",
              "      display: none;\n",
              "      fill: #1967D2;\n",
              "      height: 32px;\n",
              "      padding: 0 0 0 0;\n",
              "      width: 32px;\n",
              "    }\n",
              "\n",
              "    .colab-df-convert:hover {\n",
              "      background-color: #E2EBFA;\n",
              "      box-shadow: 0px 1px 2px rgba(60, 64, 67, 0.3), 0px 1px 3px 1px rgba(60, 64, 67, 0.15);\n",
              "      fill: #174EA6;\n",
              "    }\n",
              "\n",
              "    [theme=dark] .colab-df-convert {\n",
              "      background-color: #3B4455;\n",
              "      fill: #D2E3FC;\n",
              "    }\n",
              "\n",
              "    [theme=dark] .colab-df-convert:hover {\n",
              "      background-color: #434B5C;\n",
              "      box-shadow: 0px 1px 3px 1px rgba(0, 0, 0, 0.15);\n",
              "      filter: drop-shadow(0px 1px 2px rgba(0, 0, 0, 0.3));\n",
              "      fill: #FFFFFF;\n",
              "    }\n",
              "  </style>\n",
              "\n",
              "      <script>\n",
              "        const buttonEl =\n",
              "          document.querySelector('#df-0a8d4927-71b7-400e-8903-0f47b04546ae button.colab-df-convert');\n",
              "        buttonEl.style.display =\n",
              "          google.colab.kernel.accessAllowed ? 'block' : 'none';\n",
              "\n",
              "        async function convertToInteractive(key) {\n",
              "          const element = document.querySelector('#df-0a8d4927-71b7-400e-8903-0f47b04546ae');\n",
              "          const dataTable =\n",
              "            await google.colab.kernel.invokeFunction('convertToInteractive',\n",
              "                                                     [key], {});\n",
              "          if (!dataTable) return;\n",
              "\n",
              "          const docLinkHtml = 'Like what you see? Visit the ' +\n",
              "            '<a target=\"_blank\" href=https://colab.research.google.com/notebooks/data_table.ipynb>data table notebook</a>'\n",
              "            + ' to learn more about interactive tables.';\n",
              "          element.innerHTML = '';\n",
              "          dataTable['output_type'] = 'display_data';\n",
              "          await google.colab.output.renderOutput(dataTable, element);\n",
              "          const docLink = document.createElement('div');\n",
              "          docLink.innerHTML = docLinkHtml;\n",
              "          element.appendChild(docLink);\n",
              "        }\n",
              "      </script>\n",
              "    </div>\n",
              "  </div>\n",
              "  "
            ],
            "text/plain": [
              "      CRIM    ZN  INDUS  CHAS    NOX  ...  RAD    TAX  PTRATIO       B  LSTAT\n",
              "0  0.00632  18.0   2.31   0.0  0.538  ...  1.0  296.0     15.3  396.90   4.98\n",
              "1  0.02731   0.0   7.07   0.0  0.469  ...  2.0  242.0     17.8  396.90   9.14\n",
              "2  0.02729   0.0   7.07   0.0  0.469  ...  2.0  242.0     17.8  392.83   4.03\n",
              "3  0.03237   0.0   2.18   0.0  0.458  ...  3.0  222.0     18.7  394.63   2.94\n",
              "4  0.06905   0.0   2.18   0.0  0.458  ...  3.0  222.0     18.7  396.90   5.33\n",
              "\n",
              "[5 rows x 13 columns]"
            ]
          },
          "metadata": {},
          "execution_count": 47
        }
      ],
      "source": [
        "# импортируем нужные библиотеки\n",
        "from matplotlib import pyplot as plt\n",
        "%matplotlib inline\n",
        "import seaborn as sns\n",
        "import pandas as pd\n",
        "import numpy as np\n",
        "from sklearn.datasets import load_boston\n",
        "from sklearn.preprocessing import Normalizer, StandardScaler \n",
        "from sklearn.preprocessing import MinMaxScaler \n",
        "from sklearn.model_selection import train_test_split as tts\n",
        "from sklearn.linear_model import LinearRegression\n",
        "from sklearn.metrics import mean_absolute_error as mae, mean_squared_error as mse, r2_score as r2\n",
        "from sklearn.ensemble import RandomForestRegressor\n",
        "\n",
        "# загружаем данные\n",
        "boston_data = load_boston()\n",
        "\n",
        "X = pd.DataFrame(boston_data.data, columns=boston_data.feature_names)\n",
        "y = boston_data.target\n",
        "\n",
        "X.head()"
      ]
    },
    {
      "cell_type": "code",
      "source": [
        "X_train, X_test, y_train, y_test = tts(X, y, test_size = 0.20, shuffle = True, random_state = 42)"
      ],
      "metadata": {
        "id": "jUlUEmLIeT-8"
      },
      "execution_count": 48,
      "outputs": []
    },
    {
      "cell_type": "code",
      "source": [
        "# обучение модели\n",
        "model = RandomForestRegressor(random_state=42)\n",
        "\n",
        "model.fit(X_train, y_train)"
      ],
      "metadata": {
        "colab": {
          "base_uri": "https://localhost:8080/"
        },
        "id": "8v8yelAcY_0I",
        "outputId": "0a588be3-3b83-4397-b15b-5e99c8cbbbc5"
      },
      "execution_count": 49,
      "outputs": [
        {
          "output_type": "execute_result",
          "data": {
            "text/plain": [
              "RandomForestRegressor(random_state=42)"
            ]
          },
          "metadata": {},
          "execution_count": 49
        }
      ]
    },
    {
      "cell_type": "markdown",
      "source": [
        "# 2. Рассчитайте MAE, MSE, R2 на тренировочной и тестовой выборке."
      ],
      "metadata": {
        "id": "Pp1gRp0chpt6"
      }
    },
    {
      "cell_type": "code",
      "source": [
        "# предсказания зависимой переменной у на тестовом и обучающем наборе\n",
        "y_train_pred = model.predict(X_train)\n",
        "y_test_pred = model.predict(X_test)\n",
        "\n",
        "# метрики качества на тестовом и обучающем множестве\n",
        "print('MAE train:', mae(y_train, y_train_pred))\n",
        "print('MAE test:', mae(y_test, y_test_pred))\n",
        "\n",
        "print('MSE train:', mse(y_train, y_train_pred))\n",
        "print('MSE test:', mse(y_test, y_test_pred))\n",
        "\n",
        "print('R2 train:', r2(y_train, y_train_pred))\n",
        "print('R2 test:', r2(y_test, y_test_pred))"
      ],
      "metadata": {
        "colab": {
          "base_uri": "https://localhost:8080/"
        },
        "id": "_M07vDLTa4c4",
        "outputId": "06a6c389-1350-4f11-9b90-f5ba33977da5"
      },
      "execution_count": 50,
      "outputs": [
        {
          "output_type": "stream",
          "name": "stdout",
          "text": [
            "MAE train: 0.903477722772276\n",
            "MAE test: 2.0395392156862746\n",
            "MSE train: 1.9783925024752465\n",
            "MSE test: 7.901513892156864\n",
            "R2 train: 0.9772267182453291\n",
            "R2 test: 0.8922527442109116\n"
          ]
        }
      ]
    },
    {
      "cell_type": "code",
      "source": [
        "plt.figure(figsize=(10,7))\n",
        "plt.scatter(y_test, y_test_pred)\n",
        "plt.plot([0,50], [0, 50], '--k', color='red', linewidth=3)\n",
        "plt.xlabel('Факт')\n",
        "plt.ylabel('Прогноз')\n",
        "plt.show()"
      ],
      "metadata": {
        "colab": {
          "base_uri": "https://localhost:8080/",
          "height": 442
        },
        "id": "iskSr5k9hBbn",
        "outputId": "446a889a-304e-4c3c-dbb3-fd0ffb82eb73"
      },
      "execution_count": 51,
      "outputs": [
        {
          "output_type": "display_data",
          "data": {
            "image/png": "[encoded data removed]",
            "text/plain": [
              "<Figure size 720x504 with 1 Axes>"
            ]
          },
          "metadata": {
            "needs_background": "light"
          }
        }
      ]
    },
    {
      "cell_type": "code",
      "source": [
        "# пробуем настроить гиперпараметры\n",
        "def fit_predict(train, test, y_train, y_test, criterion = 'squared_error', n_estimators = 100, max_depth = None, min_sample_split = 2):  # пайтон на criterion = 'mse' выдал ошибку и сказал заменить на criterion = 'squared_error'\n",
        "  rf = RandomForestRegressor(criterion=criterion, n_estimators=n_estimators, max_depth=max_depth)\n",
        "  rf.fit(train, y_train)\n",
        "  y_pred_train = rf.predict(train)\n",
        "  y_pred = rf.predict(test)\n",
        "  print('train', r2(y_train, y_pred_train), 'test', r2(y_test, y_pred))"
      ],
      "metadata": {
        "id": "DtS1KMi0iXAO"
      },
      "execution_count": 52,
      "outputs": []
    },
    {
      "cell_type": "code",
      "source": [
        "# максимальная глубина деревьев\n",
        "for max_depth in range(2,21):\n",
        "  print('R^2 score using max_depth={0}:'.format(max_depth), end=' ')\n",
        "  fit_predict(X_train, X_test, y_train, y_test, max_depth = max_depth)"
      ],
      "metadata": {
        "colab": {
          "base_uri": "https://localhost:8080/"
        },
        "id": "72ZTDrddjqDf",
        "outputId": "ac09d1e1-9b31-4aef-d5c9-dc12981a8cd0"
      },
      "execution_count": 53,
      "outputs": [
        {
          "output_type": "stream",
          "name": "stdout",
          "text": [
            "R^2 score using max_depth=2: train 0.7709106981816058 test 0.7131290966247285\n",
            "R^2 score using max_depth=3: train 0.8705727225584604 test 0.8247631049028509\n",
            "R^2 score using max_depth=4: train 0.9095464824600872 test 0.8511270949047637\n",
            "R^2 score using max_depth=5: train 0.9323679553315724 test 0.8640000591600265\n",
            "R^2 score using max_depth=6: train 0.9511890965563741 test 0.8678440325355692\n",
            "R^2 score using max_depth=7: train 0.961353178465569 test 0.8814291580957881\n",
            "R^2 score using max_depth=8: train 0.9674115119120256 test 0.8761656861311091\n",
            "R^2 score using max_depth=9: train 0.9743110095463902 test 0.892312518872356\n",
            "R^2 score using max_depth=10: train 0.9724613819097261 test 0.8761275901626737\n",
            "R^2 score using max_depth=11: train 0.975932743281822 test 0.8754399619915993\n",
            "R^2 score using max_depth=12: train 0.9760791142971955 test 0.8828862948315831\n",
            "R^2 score using max_depth=13: train 0.977379060723034 test 0.8860216272689905\n",
            "R^2 score using max_depth=14: train 0.9769144061695239 test 0.872020730964455\n",
            "R^2 score using max_depth=15: train 0.9778310787200936 test 0.8788407556652094\n",
            "R^2 score using max_depth=16: train 0.9761292425096578 test 0.8743727362069378\n",
            "R^2 score using max_depth=17: train 0.9786555986994859 test 0.8890760073068628\n",
            "R^2 score using max_depth=18: train 0.977369431282025 test 0.8727167774100036\n",
            "R^2 score using max_depth=19: train 0.978719429871708 test 0.8731606390366226\n",
            "R^2 score using max_depth=20: train 0.9800671249341975 test 0.8830916058934986\n"
          ]
        }
      ]
    },
    {
      "cell_type": "code",
      "source": [
        "# минимальное число объектов, чтобы узел дерева расщепился\n",
        "for min_sample_split in range(5,51,5):\n",
        "  print('R^2 score using min_sample_leaf = {0}:'.format(min_sample_split), end = ' ')\n",
        "  fit_predict(X_train, X_test, y_train, y_test, max_depth=3, min_sample_split=min_sample_split)"
      ],
      "metadata": {
        "colab": {
          "base_uri": "https://localhost:8080/"
        },
        "id": "VUTcIbE5mWpp",
        "outputId": "0c22b74e-ab81-43bc-eb0d-05847a62e3dc"
      },
      "execution_count": 54,
      "outputs": [
        {
          "output_type": "stream",
          "name": "stdout",
          "text": [
            "R^2 score using min_sample_leaf = 5: train 0.8679403845018081 test 0.8202767547080129\n",
            "R^2 score using min_sample_leaf = 10: train 0.868192624765251 test 0.8154138942924707\n",
            "R^2 score using min_sample_leaf = 15: train 0.8716819652901878 test 0.817210658248349\n",
            "R^2 score using min_sample_leaf = 20: train 0.8704017176123444 test 0.8193517148292706\n",
            "R^2 score using min_sample_leaf = 25: train 0.8676611365895067 test 0.8070735431256548\n",
            "R^2 score using min_sample_leaf = 30: train 0.8666308741640217 test 0.8217985294671181\n",
            "R^2 score using min_sample_leaf = 35: train 0.8717353277419518 test 0.8397388947207755\n",
            "R^2 score using min_sample_leaf = 40: train 0.8682259780146832 test 0.819360149981051\n",
            "R^2 score using min_sample_leaf = 45: train 0.8713475023904369 test 0.8162875116851622\n",
            "R^2 score using min_sample_leaf = 50: train 0.870348881693673 test 0.8260566248359491\n"
          ]
        }
      ]
    },
    {
      "cell_type": "code",
      "source": [
        "# критерий расщепления\n",
        "for criterion in ['squared_error', 'absolute_error']:  # Criterion 'mae' was deprecated in v1.0 and will be removed in version 1.2. Use `criterion='absolute_error'` which is equivalent.\n",
        "  print('R^2 score using {0} criterion:'.format(criterion), end=' ')\n",
        "  fit_predict(X_train, X_test, y_train, y_test, max_depth=3, min_sample_split=15, criterion=criterion)"
      ],
      "metadata": {
        "colab": {
          "base_uri": "https://localhost:8080/"
        },
        "id": "2d_mSzTrnsIs",
        "outputId": "b263bc6a-6260-443b-eeef-01feebc67d1b"
      },
      "execution_count": 55,
      "outputs": [
        {
          "output_type": "stream",
          "name": "stdout",
          "text": [
            "R^2 score using squared_error criterion: train 0.8681809221762935 test 0.8219059002230242\n",
            "R^2 score using absolute_error criterion: train 0.8361863216968803 test 0.7973914929685867\n"
          ]
        }
      ]
    },
    {
      "cell_type": "code",
      "source": [
        "# число \"деревьев\" в \"случайном лесу\"\n",
        "for n_estimators in range(100,1001,100):\n",
        "  print('R^2 score using n_estimators = {0}:'.format(n_estimators), end=' ')\n",
        "  fit_predict(X_train, X_test, y_train, y_test, max_depth=3, min_sample_split=15, criterion='squared_error', n_estimators=n_estimators)"
      ],
      "metadata": {
        "colab": {
          "base_uri": "https://localhost:8080/"
        },
        "id": "pKO8o3oKoaBI",
        "outputId": "27a05d5a-f7a3-4c74-a63e-76b978c84290"
      },
      "execution_count": 56,
      "outputs": [
        {
          "output_type": "stream",
          "name": "stdout",
          "text": [
            "R^2 score using n_estimators = 100: train 0.8686153304801645 test 0.8284950639327625\n",
            "R^2 score using n_estimators = 200: train 0.866137956549268 test 0.8168755912847928\n",
            "R^2 score using n_estimators = 300: train 0.8717574849901588 test 0.8317031517756369\n",
            "R^2 score using n_estimators = 400: train 0.8701389702130374 test 0.8206288922034377\n",
            "R^2 score using n_estimators = 500: train 0.8701581150587432 test 0.8218316716975376\n",
            "R^2 score using n_estimators = 600: train 0.8687764313739457 test 0.819486663437508\n",
            "R^2 score using n_estimators = 700: train 0.8695358218438161 test 0.8237375135988584\n",
            "R^2 score using n_estimators = 800: train 0.8694269332773715 test 0.821912141154766\n",
            "R^2 score using n_estimators = 900: train 0.8690867570765809 test 0.8242171275424995\n",
            "R^2 score using n_estimators = 1000: train 0.86987169542706 test 0.8238830935151087\n"
          ]
        }
      ]
    },
    {
      "cell_type": "code",
      "source": [
        "model2 = RandomForestRegressor(criterion='squared_error', n_estimators=300, max_depth=3, random_state=5, min_samples_split=15)\n",
        "\n",
        "model2.fit(X_train, y_train)"
      ],
      "metadata": {
        "colab": {
          "base_uri": "https://localhost:8080/"
        },
        "id": "SP_GKfZ5pLyO",
        "outputId": "6d5b4508-cbb3-4516-bfa0-9cfe6e052cf6"
      },
      "execution_count": 57,
      "outputs": [
        {
          "output_type": "execute_result",
          "data": {
            "text/plain": [
              "RandomForestRegressor(max_depth=3, min_samples_split=15, n_estimators=300,\n",
              "                      random_state=5)"
            ]
          },
          "metadata": {},
          "execution_count": 57
        }
      ]
    },
    {
      "cell_type": "code",
      "source": [
        "y_train_pred2=model2.predict(X_train)\n",
        "y_test_pred2=model2.predict(X_test)\n",
        "\n",
        "print('R2 train:', r2(y_train, y_train_pred2))\n",
        "print('R2 test:', r2(y_test, y_test_pred2))"
      ],
      "metadata": {
        "colab": {
          "base_uri": "https://localhost:8080/"
        },
        "id": "2U-MP8oApxi2",
        "outputId": "9954608c-197c-439b-b17e-80311a332f02"
      },
      "execution_count": 58,
      "outputs": [
        {
          "output_type": "stream",
          "name": "stdout",
          "text": [
            "R2 train: 0.8685861956584837\n",
            "R2 test: 0.8248676153984816\n"
          ]
        }
      ]
    }
  ]
}