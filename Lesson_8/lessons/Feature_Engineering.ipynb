{
  "nbformat": 4,
  "nbformat_minor": 0,
  "metadata": {
    "colab": {
      "name": "Урок_8_Python_Повышение_качества_предиктивных_моделей_Feature_Engineering.ipynb",
      "provenance": [],
      "collapsed_sections": []
    },
    "kernelspec": {
      "display_name": "Python 3",
      "name": "python3"
    }
  },
  "cells": [
    {
      "cell_type": "markdown",
      "metadata": {
        "id": "Un40pSRJ7cGZ"
      },
      "source": [
        "#Feature Engineering "
      ]
    },
    {
      "cell_type": "markdown",
      "metadata": {
        "id": "Xkxo9VJtNFAc"
      },
      "source": [
        "Загружаем необходимые модули"
      ]
    },
    {
      "cell_type": "code",
      "metadata": {
        "id": "Qr18JPw0NOYn"
      },
      "source": [
        "from matplotlib import pyplot as plt\n",
        "%matplotlib inline\n",
        "import seaborn as sns\n",
        "import pandas as pd\n",
        "import numpy as np\n",
        "from sklearn.model_selection import train_test_split\n",
        "from sklearn.preprocessing import LabelEncoder\n",
        "from sklearn.linear_model import LogisticRegression\n",
        "from sklearn.ensemble import RandomForestClassifier\n",
        "from sklearn.feature_selection import SelectFromModel\n",
        "from sklearn.ensemble import ExtraTreesClassifier\n",
        "from sklearn.feature_selection import SelectKBest\n",
        "from sklearn.feature_selection import chi2"
      ],
      "execution_count": null,
      "outputs": []
    },
    {
      "cell_type": "markdown",
      "metadata": {
        "id": "qrLKc5Ui-a21"
      },
      "source": [
        "Возьмем набор данных Titanic с Kaggle (https://www.kaggle.com/c/titanic/overview)"
      ]
    },
    {
      "cell_type": "markdown",
      "metadata": {
        "id": "VaSqImWKOShA"
      },
      "source": [
        "*   PassengerId - Порядковый номер пассажира\n",
        "*   Survived - Выжил: 0 - нет, 1 - да (целевая переменная) \n",
        "*   Pclass - класс билета: 1-й (Upper), 2-й (Middle), 3-й (Lower)\n",
        "*   Name - Имя пассажира\n",
        "*   Sex - Пол пассажира\n",
        "*   Age - Возраст пассажира\n",
        "*   SibSp - Братьев/сестер/супругов на борту\n",
        "*   Parch - Детей/родителей на борту\n",
        "*   Ticket - Номер билета\n",
        "*   Fare - Стоимость билета\n",
        "*   Cabin - Номер каюты\n",
        "*   Embarked - Порт посадки: C = Cherbourg, Q = Queenstown, S = Southampton"
      ]
    },
    {
      "cell_type": "markdown",
      "metadata": {
        "id": "hHG7v-JiHXWl"
      },
      "source": [
        "Загружаем и читаем данные"
      ]
    },
    {
      "cell_type": "code",
      "metadata": {
        "id": "TeTDhPFq9g0O",
        "colab": {
          "base_uri": "https://localhost:8080/",
          "height": 194
        },
        "outputId": "33bbe71a-1a7d-4895-879a-5c9a2bb83225"
      },
      "source": [
        "x = pd.read_csv('titanic_train.csv', sep=',')\n",
        "x_raw = x.copy()\n",
        "x.head()"
      ],
      "execution_count": null,
      "outputs": [
        {
          "output_type": "execute_result",
          "data": {
            "text/html": [
              "<div>\n",
              "<style scoped>\n",
              "    .dataframe tbody tr th:only-of-type {\n",
              "        vertical-align: middle;\n",
              "    }\n",
              "\n",
              "    .dataframe tbody tr th {\n",
              "        vertical-align: top;\n",
              "    }\n",
              "\n",
              "    .dataframe thead th {\n",
              "        text-align: right;\n",
              "    }\n",
              "</style>\n",
              "<table border=\"1\" class=\"dataframe\">\n",
              "  <thead>\n",
              "    <tr style=\"text-align: right;\">\n",
              "      <th></th>\n",
              "      <th>PassengerId</th>\n",
              "      <th>Survived</th>\n",
              "      <th>Pclass</th>\n",
              "      <th>Name</th>\n",
              "      <th>Sex</th>\n",
              "      <th>Age</th>\n",
              "      <th>SibSp</th>\n",
              "      <th>Parch</th>\n",
              "      <th>Ticket</th>\n",
              "      <th>Fare</th>\n",
              "      <th>Cabin</th>\n",
              "      <th>Embarked</th>\n",
              "    </tr>\n",
              "  </thead>\n",
              "  <tbody>\n",
              "    <tr>\n",
              "      <th>0</th>\n",
              "      <td>1</td>\n",
              "      <td>0</td>\n",
              "      <td>3</td>\n",
              "      <td>Braund, Mr. Owen Harris</td>\n",
              "      <td>male</td>\n",
              "      <td>22.0</td>\n",
              "      <td>1</td>\n",
              "      <td>0</td>\n",
              "      <td>A/5 21171</td>\n",
              "      <td>7.2500</td>\n",
              "      <td>NaN</td>\n",
              "      <td>S</td>\n",
              "    </tr>\n",
              "    <tr>\n",
              "      <th>1</th>\n",
              "      <td>2</td>\n",
              "      <td>1</td>\n",
              "      <td>1</td>\n",
              "      <td>Cumings, Mrs. John Bradley (Florence Briggs Th...</td>\n",
              "      <td>female</td>\n",
              "      <td>38.0</td>\n",
              "      <td>1</td>\n",
              "      <td>0</td>\n",
              "      <td>PC 17599</td>\n",
              "      <td>71.2833</td>\n",
              "      <td>C85</td>\n",
              "      <td>C</td>\n",
              "    </tr>\n",
              "    <tr>\n",
              "      <th>2</th>\n",
              "      <td>3</td>\n",
              "      <td>1</td>\n",
              "      <td>3</td>\n",
              "      <td>Heikkinen, Miss. Laina</td>\n",
              "      <td>female</td>\n",
              "      <td>26.0</td>\n",
              "      <td>0</td>\n",
              "      <td>0</td>\n",
              "      <td>STON/O2. 3101282</td>\n",
              "      <td>7.9250</td>\n",
              "      <td>NaN</td>\n",
              "      <td>S</td>\n",
              "    </tr>\n",
              "    <tr>\n",
              "      <th>3</th>\n",
              "      <td>4</td>\n",
              "      <td>1</td>\n",
              "      <td>1</td>\n",
              "      <td>Futrelle, Mrs. Jacques Heath (Lily May Peel)</td>\n",
              "      <td>female</td>\n",
              "      <td>35.0</td>\n",
              "      <td>1</td>\n",
              "      <td>0</td>\n",
              "      <td>113803</td>\n",
              "      <td>53.1000</td>\n",
              "      <td>C123</td>\n",
              "      <td>S</td>\n",
              "    </tr>\n",
              "    <tr>\n",
              "      <th>4</th>\n",
              "      <td>5</td>\n",
              "      <td>0</td>\n",
              "      <td>3</td>\n",
              "      <td>Allen, Mr. William Henry</td>\n",
              "      <td>male</td>\n",
              "      <td>35.0</td>\n",
              "      <td>0</td>\n",
              "      <td>0</td>\n",
              "      <td>373450</td>\n",
              "      <td>8.0500</td>\n",
              "      <td>NaN</td>\n",
              "      <td>S</td>\n",
              "    </tr>\n",
              "  </tbody>\n",
              "</table>\n",
              "</div>"
            ],
            "text/plain": [
              "   PassengerId  Survived  Pclass  ...     Fare Cabin  Embarked\n",
              "0            1         0       3  ...   7.2500   NaN         S\n",
              "1            2         1       1  ...  71.2833   C85         C\n",
              "2            3         1       3  ...   7.9250   NaN         S\n",
              "3            4         1       1  ...  53.1000  C123         S\n",
              "4            5         0       3  ...   8.0500   NaN         S\n",
              "\n",
              "[5 rows x 12 columns]"
            ]
          },
          "metadata": {
            "tags": []
          },
          "execution_count": 2
        }
      ]
    },
    {
      "cell_type": "markdown",
      "metadata": {
        "id": "c-IA4PzZUnEC"
      },
      "source": [
        "Разделим данные на признаки \"x\" и целевую переменную \"y\""
      ]
    },
    {
      "cell_type": "code",
      "metadata": {
        "id": "qRjZA8Jr0NVC"
      },
      "source": [
        "y = x['Survived']\n",
        "x.drop('Survived',  axis = 'columns', inplace = True)"
      ],
      "execution_count": null,
      "outputs": []
    },
    {
      "cell_type": "markdown",
      "metadata": {
        "id": "Nypley4w1g_V"
      },
      "source": [
        "Посмотрим какие признаки у нас есть"
      ]
    },
    {
      "cell_type": "code",
      "metadata": {
        "colab": {
          "base_uri": "https://localhost:8080/"
        },
        "id": "Ie0mxThKUrMJ",
        "outputId": "9216a8c1-7c2f-4791-de57-65e7b94b4d59"
      },
      "source": [
        "x.info()"
      ],
      "execution_count": null,
      "outputs": [
        {
          "output_type": "stream",
          "text": [
            "<class 'pandas.core.frame.DataFrame'>\n",
            "RangeIndex: 891 entries, 0 to 890\n",
            "Data columns (total 11 columns):\n",
            " #   Column       Non-Null Count  Dtype  \n",
            "---  ------       --------------  -----  \n",
            " 0   PassengerId  891 non-null    int64  \n",
            " 1   Pclass       891 non-null    int64  \n",
            " 2   Name         891 non-null    object \n",
            " 3   Sex          891 non-null    object \n",
            " 4   Age          714 non-null    float64\n",
            " 5   SibSp        891 non-null    int64  \n",
            " 6   Parch        891 non-null    int64  \n",
            " 7   Ticket       891 non-null    object \n",
            " 8   Fare         891 non-null    float64\n",
            " 9   Cabin        204 non-null    object \n",
            " 10  Embarked     889 non-null    object \n",
            "dtypes: float64(2), int64(4), object(5)\n",
            "memory usage: 76.7+ KB\n"
          ],
          "name": "stdout"
        }
      ]
    },
    {
      "cell_type": "markdown",
      "metadata": {
        "id": "MbbI3R_wPixI"
      },
      "source": [
        "Рассмотрим признак \"PassengerId\""
      ]
    },
    {
      "cell_type": "code",
      "metadata": {
        "colab": {
          "base_uri": "https://localhost:8080/"
        },
        "id": "xi_NE9eMPokg",
        "outputId": "ca91f48e-c858-416a-a037-a21c052f465e"
      },
      "source": [
        "x['PassengerId'].describe()"
      ],
      "execution_count": null,
      "outputs": [
        {
          "output_type": "execute_result",
          "data": {
            "text/plain": [
              "count    891.000000\n",
              "mean     446.000000\n",
              "std      257.353842\n",
              "min        1.000000\n",
              "25%      223.500000\n",
              "50%      446.000000\n",
              "75%      668.500000\n",
              "max      891.000000\n",
              "Name: PassengerId, dtype: float64"
            ]
          },
          "metadata": {
            "tags": []
          },
          "execution_count": 5
        }
      ]
    },
    {
      "cell_type": "code",
      "metadata": {
        "colab": {
          "base_uri": "https://localhost:8080/"
        },
        "id": "sB6UscQRUw2U",
        "outputId": "4e6e64ef-b2f3-4e54-ec6c-41aed0952a7f"
      },
      "source": [
        "x['PassengerId'].nunique()"
      ],
      "execution_count": null,
      "outputs": [
        {
          "output_type": "execute_result",
          "data": {
            "text/plain": [
              "891"
            ]
          },
          "metadata": {
            "tags": []
          },
          "execution_count": 6
        }
      ]
    },
    {
      "cell_type": "code",
      "metadata": {
        "id": "ssq_qptoT1fj"
      },
      "source": [
        "# Удаляем из датафрейма этот признак как неинформативный\n",
        "x.drop('PassengerId',  axis = 'columns', inplace = True)"
      ],
      "execution_count": null,
      "outputs": []
    },
    {
      "cell_type": "markdown",
      "metadata": {
        "id": "eVQ8T3zOSKKh"
      },
      "source": [
        "Рассмотрим признак \"Pclass\""
      ]
    },
    {
      "cell_type": "code",
      "metadata": {
        "colab": {
          "base_uri": "https://localhost:8080/",
          "height": 383
        },
        "id": "2ZBTC6VyUShF",
        "outputId": "93e911bb-847c-4a30-f07d-631a97e3c154"
      },
      "source": [
        "sns.set_style('whitegrid')\n",
        "sns.catplot(x = 'Survived', data = x_raw, kind = 'count', hue = 'Pclass');"
      ],
      "execution_count": null,
      "outputs": [
        {
          "output_type": "display_data",
          "data": {
            "image/png": "[encoded data removed]",
            "text/plain": [
              "<Figure size 402.375x360 with 1 Axes>"
            ]
          },
          "metadata": {
            "tags": []
          }
        }
      ]
    },
    {
      "cell_type": "markdown",
      "metadata": {
        "id": "iFI3MFF3nDhc"
      },
      "source": [
        "Рассмотрим признак \"Name\""
      ]
    },
    {
      "cell_type": "code",
      "metadata": {
        "id": "IEwQuCNQaHTx",
        "colab": {
          "base_uri": "https://localhost:8080/"
        },
        "outputId": "4f9013c2-b096-40a8-ed57-0393293832ff"
      },
      "source": [
        "x['Name'].describe()"
      ],
      "execution_count": null,
      "outputs": [
        {
          "output_type": "execute_result",
          "data": {
            "text/plain": [
              "count                   891\n",
              "unique                  891\n",
              "top       Badt, Mr. Mohamed\n",
              "freq                      1\n",
              "Name: Name, dtype: object"
            ]
          },
          "metadata": {
            "tags": []
          },
          "execution_count": 9
        }
      ]
    },
    {
      "cell_type": "code",
      "metadata": {
        "id": "6e0YcSgbV8I-"
      },
      "source": [
        "# x.drop('Name',  axis = 'columns', inplace = True)"
      ],
      "execution_count": null,
      "outputs": []
    },
    {
      "cell_type": "markdown",
      "metadata": {
        "id": "MAxV9Vwc1Quq"
      },
      "source": [
        "Разделим выборку на тренировочную и тестовую"
      ]
    },
    {
      "cell_type": "code",
      "metadata": {
        "id": "Wq6go8t10Dnz"
      },
      "source": [
        "x_train, x_test, y_train, y_test = train_test_split(x, y, test_size = 0.2, random_state=0, stratify = y, shuffle = True)\n",
        "x_train = x_train.copy()\n",
        "x_test = x_test.copy()"
      ],
      "execution_count": null,
      "outputs": []
    },
    {
      "cell_type": "markdown",
      "metadata": {
        "id": "X2EIBM31H6a6"
      },
      "source": [
        "Выполним извлечение признаков из текстового столбца Name на основе статистики частотности слов по методике Tfidf"
      ]
    },
    {
      "cell_type": "code",
      "metadata": {
        "id": "4lLUfWJE2SCp"
      },
      "source": [
        "from sklearn.feature_extraction.text import TfidfVectorizer\n",
        "\n",
        "vec = TfidfVectorizer()\n",
        "vec_train = vec.fit_transform(x_train['Name'])\n",
        "vec_test = vec.transform(x_test['Name'])\n",
        "\n",
        "# удаляем текстовую переменную, на вход модели ее подать нельзя\n",
        "x_train.drop('Name',  axis = 'columns', inplace = True)\n",
        "x_test.drop('Name',  axis = 'columns', inplace = True)"
      ],
      "execution_count": null,
      "outputs": []
    },
    {
      "cell_type": "code",
      "metadata": {
        "colab": {
          "base_uri": "https://localhost:8080/"
        },
        "id": "7SfjgqRi84Sh",
        "outputId": "422153f7-0eca-411d-9c81-09bbabccb3c0"
      },
      "source": [
        "# выводим матрицу с коэффициентом Tfidf для каждого слова в столбце Name и каждой строки датафрейма \n",
        "print(vec.get_feature_names())\n",
        "print(vec_train.toarray())\n",
        "print(pd.DataFrame(vec_train.toarray(), columns=vec.get_feature_names()))"
      ],
      "execution_count": null,
      "outputs": [
        {
          "output_type": "stream",
          "text": [
            "['abbott', 'abelson', 'abraham', 'achem', 'achille', 'achilles', 'ada', 'adahl', 'adams', 'adelaide', 'adele', 'adelia', 'adola', 'adolf', 'adolfina', 'adolphe', 'adrian', 'agatha', 'agda', 'agnes', 'ahlin', 'ahmed', 'aijo', 'aime', 'aks', 'albert', 'albin', 'albina', 'alden', 'alexander', 'alexandra', 'alexanteri', 'alexenia', 'alfons', 'alfred', 'alfrida', 'algernon', 'alhomaki', 'ali', 'alice', 'aline', 'allen', 'allison', 'alma', 'amanda', 'ambrose', 'amelia', 'amelie', 'amin', 'amy', 'anders', 'andersen', 'anderson', 'andersson', 'andre', 'andreas', 'andreasson', 'andree', 'andrew', 'andrews', 'andy', 'angle', 'ann', 'anna', 'anne', 'annie', 'anthony', 'antino', 'antonine', 'antti', 'appleton', 'archibald', 'archie', 'arne', 'arnold', 'artagaveytia', 'arthur', 'arvid', 'asim', 'asplund', 'assad', 'assi', 'astor', 'asuncion', 'atkinson', 'attalah', 'aubart', 'august', 'augusta', 'augustus', 'aurora', 'austin', 'ayoub', 'backstrom', 'baclini', 'badt', 'bailey', 'baird', 'balkic', 'ball', 'banfield', 'banoura', 'baptist', 'baptiste', 'barah', 'barbara', 'barber', 'barkworth', 'barron', 'barton', 'bateman', 'baumann', 'baxter', 'bazzani', 'beane', 'beard', 'becker', 'beckwith', 'beesley', 'behr', 'beila', 'bengt', 'bengtsson', 'benjamin', 'berglund', 'bernhardina', 'bernt', 'bertha', 'berthe', 'bertram', 'bessie', 'betros', 'bidois', 'bing', 'birger', 'birkeland', 'birkhardt', 'bishop', 'bissette', 'bjornstrom', 'blackwell', 'bone', 'bonnell', 'borie', 'borland', 'bostandyeff', 'boulos', 'bourke', 'bowen', 'bowerman', 'bradley', 'branko', 'bratthammer', 'braund', 'brayton', 'brewe', 'bridget', 'brien', 'briggs', 'brocklebank', 'brogren', 'brown', 'bryhl', 'bullen', 'burns', 'buss', 'butler', 'butt', 'byles', 'bystrom', 'cacic', 'cairns', 'calderhead', 'caldwell', 'calic', 'cameron', 'campbell', 'canavan', 'cann', 'capt', 'caram', 'cardeza', 'carl', 'carla', 'carlo', 'carlsson', 'caroline', 'carr', 'carrie', 'carter', 'castellana', 'cater', 'catherine', 'cavendish', 'celia', 'celotti', 'cerin', 'chamberlain', 'chambers', 'chang', 'chapman', 'chaput', 'charles', 'charlotte', 'charters', 'chehab', 'cherry', 'chibnall', 'chip', 'choong', 'christine', 'christmann', 'christo', 'christy', 'clara', 'clarence', 'clarke', 'claus', 'clear', 'cleaver', 'clemmer', 'clyde', 'coelho', 'cohen', 'col', 'coleff', 'coleridge', 'collander', 'colley', 'collyer', 'compton', 'connaghton', 'connell', 'connolly', 'connor', 'constance', 'constanzia', 'cook', 'cor', 'cordelia', 'corn', 'cornelia', 'cornelius', 'cosmo', 'countess', 'courtenay', 'coutts', 'coxon', 'crease', 'cribb', 'crosby', 'culumovic', 'cumings', 'cummins', 'cunningham', 'curnow', 'dahl', 'dai', 'daisy', 'dakic', 'dale', 'daly', 'damsgaard', 'danbom', 'daniel', 'danielsen', 'danira', 'danoff', 'darwis', 'david', 'davids', 'davidson', 'davies', 'davis', 'davison', 'de', 'dean', 'del', 'delaudeniere', 'delia', 'denis', 'denkoff', 'dennick', 'dennis', 'denzil', 'der', 'devaney', 'dibo', 'dick', 'dickinson', 'dimic', 'doharr', 'dolck', 'doling', 'dolly', 'domingos', 'don', 'donald', 'dooley', 'doolina', 'dorothy', 'douglas', 'dowdell', 'downton', 'dr', 'drake', 'duane', 'duff', 'duran', 'dwyer', 'dyer', 'ebba', 'eberhard', 'eden', 'edgar', 'edgardo', 'edith', 'edmond', 'edmondus', 'edmund', 'edvard', 'edvardsson', 'edvin', 'edward', 'edwards', 'edwart', 'edwin', 'edwina', 'edwy', 'einar', 'eino', 'eiriik', 'eitemiller', 'eklund', 'ekstrom', 'eleanor', 'elias', 'eliezer', 'eliina', 'elin', 'elina', 'elisabeth', 'elise', 'eliza', 'elizabeth', 'elkins', 'ellen', 'ellie', 'ellis', 'elmer', 'elna', 'elon', 'elsie', 'emanuel', 'emil', 'emile', 'emilia', 'emily', 'emir', 'emma', 'encarnacion', 'endres', 'engelhart', 'ennis', 'eric', 'erik', 'erland', 'erna', 'ernest', 'ernst', 'ervin', 'estanslas', 'ethel', 'eugene', 'eugenie', 'eustis', 'eva', 'evelyn', 'fahim', 'fang', 'fannie', 'fared', 'farnham', 'farred', 'farthing', 'fatima', 'faunthorpe', 'felix', 'fellows', 'fenton', 'fernandeo', 'finck', 'fischer', 'fleming', 'fletcher', 'florence', 'floyd', 'flynn', 'foo', 'forbes', 'forby', 'force', 'ford', 'fortune', 'fox', 'frances', 'francesco', 'franchi', 'francis', 'francoise', 'frank', 'frankie', 'frans', 'frasar', 'frauenthal', 'frederic', 'frederick', 'fredrik', 'fridtjof', 'frolicher', 'frost', 'fry', 'funk', 'futrelle', 'fynney', 'gale', 'garfirth', 'garside', 'gaskell', 'gates', 'gavey', 'gee', 'george', 'georgette', 'gerios', 'gerious', 'gertrude', 'gideon', 'gifford', 'giglio', 'gilbert', 'giles', 'gilinski', 'gillespie', 'gilnagh', 'givard', 'gladys', 'glynn', 'godfrey', 'goldenberg', 'goldsmith', 'goncalves', 'gonios', 'goodwin', 'goransson', 'gordon', 'gosta', 'gottfrid', 'govaert', 'graham', 'green', 'greenberg', 'greenfield', 'gregg', 'gretchen', 'grice', 'griggs', 'gronnestad', 'guentcho', 'guggenheim', 'guillaume', 'gurshon', 'gus', 'gustaf', 'gustafsson', 'gustave', 'hagland', 'haim', 'hakan', 'hakkarainen', 'halim', 'hall', 'hallace', 'halvorsen', 'hamalainen', 'hammad', 'hampe', 'hanna', 'hannah', 'hanne', 'hanora', 'hans', 'hansen', 'harald', 'harbaugh', 'harbeck', 'harder', 'harknett', 'harmer', 'harper', 'harriet', 'harrington', 'harris', 'harrison', 'harry', 'hart', 'harvey', 'hassab', 'hassan', 'hastings', 'hatfield', 'hawksford', 'haxtun', 'hayden', 'hays', 'healy', 'heath', 'hedman', 'hedwig', 'heikkinen', 'heilmann', 'heininen', 'heinsheimer', 'helen', 'helena', 'helene', 'helmina', 'hendekovic', 'henriette', 'henrik', 'henry', 'herman', 'hewlett', 'hickman', 'hilda', 'hileni', 'hippach', 'hitchcock', 'hjalmar', 'hocking', 'hodges', 'hoef', 'hogeboom', 'hold', 'holm', 'holverson', 'honkanen', 'hood', 'horgan', 'houssein', 'howard', 'howell', 'hoyt', 'hubert', 'hudson', 'hugh', 'hughes', 'hugo', 'hulda', 'humblen', 'hunt', 'husein', 'ibrahim', 'icard', 'ida', 'ignjac', 'ii', 'iisakki', 'ileen', 'ilett', 'ilia', 'ilmakangas', 'ilmari', 'imanita', 'impe', 'ingeborg', 'inglis', 'ingvald', 'irene', 'iris', 'isham', 'ivan', 'ivanoff', 'ivar', 'jaako', 'jackson', 'jacob', 'jacobsohn', 'jacques', 'jakob', 'jalsevac', 'james', 'jamila', 'jan', 'jane', 'janko', 'jarvis', 'jean', 'jeannie', 'jefferys', 'jenkin', 'jennings', 'jensen', 'jermyn', 'jeso', 'jessie', 'joackim', 'joan', 'joel', 'johan', 'johann', 'johanna', 'johannes', 'johannesen', 'johannesson', 'johanson', 'johansson', 'john', 'johnson', 'johnston', 'jonkheer', 'josef', 'josefa', 'josefina', 'josefine', 'joseph', 'jovan', 'jovo', 'jr', 'juha', 'juho', 'julia', 'julian', 'juliet', 'juliette', 'juozas', 'jussila', 'kallio', 'kalvik', 'kanio', 'kantor', 'karl', 'karlsson', 'karoliina', 'karolina', 'kassem', 'kate', 'katherine', 'katie', 'keane', 'keefe', 'kelly', 'kent', 'kenyon', 'kiernan', 'kilgannon', 'kimball', 'kimber', 'kingcome', 'kink', 'kirkland', 'klaber', 'klas', 'klasen', 'knight', 'knud', 'konrad', 'kornelia', 'kristensen', 'kristina', 'kristine', 'kristo', 'kurt', 'kvillner', 'lafargue', 'lahoud', 'lahtinen', 'laina', 'laitinen', 'laleff', 'lalio', 'lam', 'lambert', 'lamson', 'landergren', 'lang', 'laroche', 'larsson', 'latifa', 'lauritz', 'laver', 'lawrence', 'leader', 'leah', 'leary', 'lee', 'leeni', 'lefebre', 'lehmann', 'leila', 'leinonen', 'leitch', 'lemercier', 'lemore', 'lennon', 'leo', 'leon', 'leonard', 'leontine', 'leopold', 'leroy', 'leslie', 'lester', 'lesurer', 'levy', 'lewis', 'lewy', 'leyson', 'lievens', 'lilian', 'lillian', 'lily', 'lindahl', 'lindell', 'lindqvist', 'ling', 'linus', 'lionel', 'lishin', 'liudevit', 'lizzie', 'lobb', 'loch', 'long', 'longstreth', 'loraine', 'lottie', 'louch', 'louis', 'louise', 'lucile', 'lucy', 'luise', 'luka', 'lurette', 'lutie', 'lyyli', 'mabel', 'mack', 'madeleine', 'madigan', 'madill', 'madsen', 'mae', 'maeglin', 'maenpaa', 'maggie', 'maidment', 'maioni', 'maisner', 'major', 'malkolm', 'mallet', 'manent', 'mangan', 'manley', 'mansour', 'mantoura', 'manuel', 'mara', 'marechal', 'margaret', 'margaritha', 'margido', 'margit', 'marguerite', 'maria', 'marian', 'marie', 'marija', 'marin', 'marion', 'marjorie', 'markland', 'markoff', 'markun', 'marshall', 'martha', 'martin', 'martinez', 'marvin', 'mary', 'masselmani', 'master', 'mathias', 'mathilda', 'mathilde', 'matilda', 'matthew', 'matthews', 'matti', 'maurice', 'mauritz', 'max', 'maxfield', 'maxmillian', 'may', 'maybelle', 'mayne', 'mccarthy', 'mccormack', 'mccoy', 'mcevoy', 'mcgowan', 'mckane', 'mcmahon', 'mcmillan', 'mcnamee', 'meanwell', 'meek', 'meier', 'melkebeke', 'mellinger', 'mellors', 'melville', 'messemaeker', 'meyer', 'michael', 'michel', 'mile', 'millet', 'milley', 'milne', 'milton', 'minahan', 'mineff', 'mionoff', 'miriam', 'mirium', 'miss', 'mitchell', 'mitto', 'mlle', 'mme', 'mockler', 'mohamed', 'molson', 'monsen', 'montgomery', 'montvila', 'monypeny', 'moor', 'moore', 'moran', 'moraweck', 'more', 'morgan', 'morley', 'morris', 'morrow', 'moss', 'moubarek', 'moussa', 'moutal', 'mr', 'mrs', 'ms', 'mudd', 'mulder', 'mullens', 'munger', 'murphy', 'mussey', 'myna', 'naidenoff', 'nakid', 'nakli', 'nasser', 'natalia', 'natsch', 'navratil', 'neal', 'nedelio', 'needs', 'nellie', 'nelson', 'nenkoff', 'neville', 'newell', 'newsom', 'nicholas', 'nicholls', 'nicholson', 'nicola', 'nicolai', 'nielsine', 'nikolai', 'nils', 'nilsson', 'nirva', 'niskanen', 'noel', 'nora', 'norah', 'norman', 'norton', 'nosworthy', 'nourelain', 'nye', 'nysten', 'nysveen', 'odahl', 'of', 'ogden', 'ohman', 'olaf', 'olai', 'ole', 'olof', 'olsen', 'olsson', 'olsvigen', 'oreskovic', 'orsen', 'oscar', 'osen', 'oskar', 'osman', 'ossian', 'ostby', 'otter', 'padro', 'pain', 'palsson', 'panula', 'parker', 'parrish', 'pasic', 'pastcho', 'patrick', 'paul', 'paula', 'pauline', 'paulner', 'paust', 'pavlovic', 'pears', 'pede', 'peder', 'peduzzi', 'peel', 'peju', 'pekka', 'pekoniemi', 'pelsmaeker', 'penasco', 'pengelly', 'penko', 'pennington', 'pentcho', 'percival', 'percy', 'perez', 'perkin', 'pernot', 'perreault', 'persdotter', 'persson', 'petar', 'petco', 'peter', 'peters', 'petranec', 'petroff', 'petterson', 'pettersson', 'philemon', 'philip', 'philippe', 'phillips', 'phoebe', 'phyllis', 'pierre', 'pieta', 'pietari', 'pinsky', 'planke', 'plotcharsky', 'polk', 'pomeroy', 'ponesell', 'portage', 'porter', 'potter', 'price', 'quick', 'quigg', 'qurban', 'rahamin', 'raihed', 'ramell', 'ramon', 'razi', 'rebecca', 'reed', 'reeves', 'reginald', 'reiersen', 'rekic', 'rene', 'renouf', 'reuchlin', 'rev', 'reynaldo', 'rice', 'richard', 'richards', 'ridsdale', 'ringhini', 'rintamaki', 'risien', 'robbins', 'robert', 'roberta', 'roger', 'rogers', 'rojj', 'roland', 'rolmane', 'romaine', 'rommetvedt', 'rood', 'rosa', 'rosalie', 'rosblom', 'roscoe', 'rosen', 'ross', 'rossmore', 'rothes', 'rouse', 'roussel', 'rowan', 'rowe', 'rowley', 'rudolf', 'rugg', 'rush', 'rut', 'ruth', 'ryan', 'ryerson', 'saad', 'saalfeld', 'sadlier', 'sage', 'sahid', 'saiide', 'saks', 'salkjelsvik', 'sallie', 'salonen', 'sam', 'samaan', 'samuel', 'sandstrom', 'sante', 'sara', 'sarkis', 'satode', 'saundercock', 'sawyer', 'scanlan', 'scott', 'sdycoff', 'sebastiano', 'sedgwick', 'selma', 'selman', 'serepeca', 'seward', 'shadrach', 'shawah', 'sheerlinck', 'shelley', 'shorney', 'shutes', 'sibley', 'sidney', 'siegwart', 'sigfrid', 'sigrid', 'sigvard', 'silven', 'silverthorne', 'silvey', 'simmons', 'simon', 'simonne', 'sinai', 'sir', 'sirayanian', 'sirota', 'sivic', 'sivola', 'sjoblom', 'skoog', 'slabenoff', 'slayter', 'sleeper', 'sleiman', 'slemen', 'slocovski', 'sloper', 'slow', 'smart', 'smiljanic', 'smith', 'sobey', 'sofia', 'soholt', 'solomon', 'somerton', 'sophia', 'soto', 'spencer', 'stahelin', 'staneff', 'stankovic', 'stanley', 'stanlick', 'stanton', 'stead', 'steen', 'steffansson', 'stefo', 'stehli', 'stephen', 'sternin', 'stewart', 'stina', 'stjepan', 'stone', 'stoytcheff', 'stoytcho', 'strandberg', 'stranden', 'strom', 'sullivan', 'sultana', 'sunderland', 'sundman', 'susan', 'sutehall', 'sutton', 'suzette', 'sven', 'svend', 'svensson', 'swift', 'sylfven', 'sylvia', 'talmadge', 'tannous', 'tate', 'taussig', 'taylor', 'telma', 'thamine', 'thayer', 'the', 'thelander', 'theobald', 'theodore', 'theodosia', 'thomas', 'thompson', 'thor', 'thorilda', 'thorne', 'thorneycroft', 'thornton', 'thorsten', 'tido', 'tikkanen', 'timothy', 'tobin', 'todor', 'todoroff', 'tomlin', 'torber', 'torborg', 'tornquist', 'toufik', 'touma', 'towner', 'trevor', 'trout', 'troutt', 'turcin', 'turja', 'turpin', 'tyler', 'tyrell', 'urho', 'uruchurtu', 'uscher', 'vallejo', 'van', 'vanden', 'vander', 'vasil', 'velin', 'vera', 'vestrom', 'victor', 'viktor', 'viktoria', 'vilhelm', 'viljami', 'viljo', 'villiers', 'vincenz', 'viola', 'violet', 'virginia', 'vovk', 'waddington', 'waelens', 'walker', 'wallach', 'walter', 'walton', 'ward', 'warner', 'warren', 'watson', 'watt', 'wayland', 'wazli', 'wearne', 'weart', 'webber', 'webster', 'weir', 'weisz', 'welles', 'wells', 'wendla', 'wennerstrom', 'werner', 'west', 'wheadon', 'white', 'wick', 'widegren', 'widener', 'wiklund', 'wilhelm', 'wilhelmina', 'wilhelms', 'wilkinson', 'willey', 'william', 'williams', 'willingham', 'wills', 'wilson', 'windelov', 'winfield', 'winnie', 'wizosky', 'wonnacott', 'wood', 'woolner', 'worth', 'wright', 'wyckoff', 'yarred', 'yoto', 'young', 'youseff', 'yousif', 'youssef', 'yousseff', 'yrois', 'zabour', 'zebley', 'zenni', 'zillah', 'zimmerman']\n",
            "[[0. 0. 0. ... 0. 0. 0.]\n",
            " [0. 0. 0. ... 0. 0. 0.]\n",
            " [0. 0. 0. ... 0. 0. 0.]\n",
            " ...\n",
            " [0. 0. 0. ... 0. 0. 0.]\n",
            " [0. 0. 0. ... 0. 0. 0.]\n",
            " [0. 0. 0. ... 0. 0. 0.]]\n",
            "     abbott  abelson  abraham  achem  ...  zebley  zenni  zillah  zimmerman\n",
            "0       0.0      0.0      0.0    0.0  ...     0.0    0.0     0.0        0.0\n",
            "1       0.0      0.0      0.0    0.0  ...     0.0    0.0     0.0        0.0\n",
            "2       0.0      0.0      0.0    0.0  ...     0.0    0.0     0.0        0.0\n",
            "3       0.0      0.0      0.0    0.0  ...     0.0    0.0     0.0        0.0\n",
            "4       0.0      0.0      0.0    0.0  ...     0.0    0.0     0.0        0.0\n",
            "..      ...      ...      ...    ...  ...     ...    ...     ...        ...\n",
            "707     0.0      0.0      0.0    0.0  ...     0.0    0.0     0.0        0.0\n",
            "708     0.0      0.0      0.0    0.0  ...     0.0    0.0     0.0        0.0\n",
            "709     0.0      0.0      0.0    0.0  ...     0.0    0.0     0.0        0.0\n",
            "710     0.0      0.0      0.0    0.0  ...     0.0    0.0     0.0        0.0\n",
            "711     0.0      0.0      0.0    0.0  ...     0.0    0.0     0.0        0.0\n",
            "\n",
            "[712 rows x 1291 columns]\n"
          ],
          "name": "stdout"
        }
      ]
    },
    {
      "cell_type": "code",
      "metadata": {
        "colab": {
          "base_uri": "https://localhost:8080/"
        },
        "id": "02iZAH5E872J",
        "outputId": "92a0cdfc-3081-449e-f04b-70981fa4f455"
      },
      "source": [
        "pd.DataFrame(vec_train.toarray(), columns=vec.get_feature_names()).tail().query('mr > 0')['mr']"
      ],
      "execution_count": null,
      "outputs": [
        {
          "output_type": "execute_result",
          "data": {
            "text/plain": [
              "707    0.129125\n",
              "708    0.115367\n",
              "709    0.140826\n",
              "710    0.162078\n",
              "711    0.157491\n",
              "Name: mr, dtype: float64"
            ]
          },
          "metadata": {
            "tags": []
          },
          "execution_count": 14
        }
      ]
    },
    {
      "cell_type": "markdown",
      "metadata": {
        "id": "d8uqZX9mox03"
      },
      "source": [
        "Рассмотрим признак \"Sex\""
      ]
    },
    {
      "cell_type": "code",
      "metadata": {
        "colab": {
          "base_uri": "https://localhost:8080/"
        },
        "id": "NqGFr1SWo2JG",
        "outputId": "ab66858e-ecc7-4dcf-cedd-7ea3b3351362"
      },
      "source": [
        "x['Sex'].describe()"
      ],
      "execution_count": null,
      "outputs": [
        {
          "output_type": "execute_result",
          "data": {
            "text/plain": [
              "count      891\n",
              "unique       2\n",
              "top       male\n",
              "freq       577\n",
              "Name: Sex, dtype: object"
            ]
          },
          "metadata": {
            "tags": []
          },
          "execution_count": 15
        }
      ]
    },
    {
      "cell_type": "code",
      "metadata": {
        "id": "6nkeanTMrRGg"
      },
      "source": [
        "# Перекодируем в бинарный признак\n",
        "labelEncoder = LabelEncoder()\n",
        "\n",
        "x_train['Sex'] = labelEncoder.fit_transform(x_train['Sex'])\n",
        "x_test['Sex'] = labelEncoder.transform(x_test['Sex'])"
      ],
      "execution_count": null,
      "outputs": []
    },
    {
      "cell_type": "code",
      "metadata": {
        "colab": {
          "base_uri": "https://localhost:8080/",
          "height": 383
        },
        "id": "9y2f2quX9JL1",
        "outputId": "e2a084a8-441b-4f27-f873-82865b17bf77"
      },
      "source": [
        "sns.catplot(x = 'Survived', data = x_raw, kind = 'count', hue = 'Sex');"
      ],
      "execution_count": null,
      "outputs": [
        {
          "output_type": "display_data",
          "data": {
            "image/png": "[encoded data removed]",
            "text/plain": [
              "<Figure size 430.5x360 with 1 Axes>"
            ]
          },
          "metadata": {
            "tags": []
          }
        }
      ]
    },
    {
      "cell_type": "markdown",
      "metadata": {
        "id": "BsS-aXOp9ikS"
      },
      "source": [
        "Рассмотрим признак \"Age\""
      ]
    },
    {
      "cell_type": "code",
      "metadata": {
        "colab": {
          "base_uri": "https://localhost:8080/"
        },
        "id": "5gMbdyPE9ntV",
        "outputId": "acf11830-2ee9-4658-f145-2ce6de1651ca"
      },
      "source": [
        "x['Age'].describe()"
      ],
      "execution_count": null,
      "outputs": [
        {
          "output_type": "execute_result",
          "data": {
            "text/plain": [
              "count    714.000000\n",
              "mean      29.699118\n",
              "std       14.526497\n",
              "min        0.420000\n",
              "25%       20.125000\n",
              "50%       28.000000\n",
              "75%       38.000000\n",
              "max       80.000000\n",
              "Name: Age, dtype: float64"
            ]
          },
          "metadata": {
            "tags": []
          },
          "execution_count": 18
        }
      ]
    },
    {
      "cell_type": "code",
      "metadata": {
        "colab": {
          "base_uri": "https://localhost:8080/"
        },
        "id": "IdznDEHwDZE-",
        "outputId": "bcc73435-c647-400c-e19f-2994ebfdc3d8"
      },
      "source": [
        "# заполим пропущенные значения\n",
        "x_train[\"Age\"] = x_train[\"Age\"].fillna(x_train[\"Age\"].mean())\n",
        "x_test[\"Age\"] = x_test[\"Age\"].fillna(x_test[\"Age\"].mean())\n",
        "x_train.Age.isnull().value_counts()"
      ],
      "execution_count": null,
      "outputs": [
        {
          "output_type": "execute_result",
          "data": {
            "text/plain": [
              "False    712\n",
              "Name: Age, dtype: int64"
            ]
          },
          "metadata": {
            "tags": []
          },
          "execution_count": 19
        }
      ]
    },
    {
      "cell_type": "code",
      "metadata": {
        "colab": {
          "base_uri": "https://localhost:8080/",
          "height": 383
        },
        "id": "vcSrQdmpEEY8",
        "outputId": "97350e63-1d9d-43d9-f1b1-7863d0cfd03f"
      },
      "source": [
        "# проведем биннинг переменной на 4 равных интервала\n",
        "s, bins = pd.cut(x_train['Age'], 4, retbins=True, include_lowest = True)\n",
        "x_train['Age_b'] = pd.cut(x_train['Age'], bins = bins, labels=False)\n",
        "x_test['Age_b'] = pd.cut(x_test['Age'], bins = bins, labels=False)\n",
        "x_corr = x_train.copy()\n",
        "x_corr['Surv'] = y_train\n",
        "sns.catplot(x = 'Surv', data = x_corr, kind = 'count', hue = 'Age_b');"
      ],
      "execution_count": null,
      "outputs": [
        {
          "output_type": "display_data",
          "data": {
            "image/png": "[encoded data removed]",
            "text/plain": [
              "<Figure size 402.375x360 with 1 Axes>"
            ]
          },
          "metadata": {
            "tags": []
          }
        }
      ]
    },
    {
      "cell_type": "code",
      "metadata": {
        "colab": {
          "base_uri": "https://localhost:8080/"
        },
        "id": "fUF1uCXkyqAk",
        "outputId": "188a0c74-d4aa-43c1-a3ca-aeede48d75ee"
      },
      "source": [
        "# границы полученных интервалов\n",
        "bins"
      ],
      "execution_count": null,
      "outputs": [
        {
          "output_type": "execute_result",
          "data": {
            "text/plain": [
              "array([ 0.34042, 20.315  , 40.21   , 60.105  , 80.     ])"
            ]
          },
          "metadata": {
            "tags": []
          },
          "execution_count": 90
        }
      ]
    },
    {
      "cell_type": "code",
      "metadata": {
        "colab": {
          "base_uri": "https://localhost:8080/"
        },
        "id": "D5E1DCwpysj2",
        "outputId": "35daad58-8f9f-4a2b-c922-0a6f36063198"
      },
      "source": [
        "s"
      ],
      "execution_count": null,
      "outputs": [
        {
          "output_type": "execute_result",
          "data": {
            "text/plain": [
              "502    (20.315, 40.21]\n",
              "464    (20.315, 40.21]\n",
              "198    (20.315, 40.21]\n",
              "765    (40.21, 60.105]\n",
              "421    (20.315, 40.21]\n",
              "            ...       \n",
              "131    (0.339, 20.315]\n",
              "490    (20.315, 40.21]\n",
              "528    (20.315, 40.21]\n",
              "48     (20.315, 40.21]\n",
              "80     (20.315, 40.21]\n",
              "Name: Age, Length: 712, dtype: category\n",
              "Categories (4, interval[float64]): [(0.339, 20.315] < (20.315, 40.21] < (40.21, 60.105] <\n",
              "                                    (60.105, 80.0]]"
            ]
          },
          "metadata": {
            "tags": []
          },
          "execution_count": 91
        }
      ]
    },
    {
      "cell_type": "code",
      "metadata": {
        "colab": {
          "base_uri": "https://localhost:8080/",
          "height": 433
        },
        "id": "G84-5qwKajum",
        "outputId": "49a58d90-ad6b-4d2d-a002-7b5e3299101b"
      },
      "source": [
        "x_corr = x_train[['Age', 'Age_b']].copy()\n",
        "x_corr['Surv'] = y_train\n",
        "correlation_matrix = x_corr.corr().round(2)\n",
        "plt.subplots(figsize=(10,7))\n",
        "sns.heatmap(data=correlation_matrix, annot=True);"
      ],
      "execution_count": null,
      "outputs": [
        {
          "output_type": "display_data",
          "data": {
            "image/png": "[encoded data removed]",
            "text/plain": [
              "<Figure size 720x504 with 2 Axes>"
            ]
          },
          "metadata": {
            "tags": []
          }
        }
      ]
    },
    {
      "cell_type": "markdown",
      "metadata": {
        "id": "hzrr4hwWT8LL"
      },
      "source": [
        "Рассмотрим признаки \"SibSp\" и \"Parch\""
      ]
    },
    {
      "cell_type": "code",
      "metadata": {
        "colab": {
          "base_uri": "https://localhost:8080/",
          "height": 450
        },
        "id": "F_zg7A6mVdVL",
        "outputId": "bfa0947f-0156-496e-b196-e05a5db58428"
      },
      "source": [
        "# создадаим новые переменные\n",
        "datasets = [x_train, x_test]\n",
        "for ds in datasets:\n",
        "    ds['Family_count'] = ds['SibSp'] + ds['Parch']\n",
        "    ds.loc[ds['Family_count'] > 0, 'Alone'] = 0\n",
        "    ds.loc[ds['Family_count'] == 0, 'Alone'] = 1\n",
        "    \n",
        "x_corr = x_train[['SibSp', 'Parch', 'Alone']].copy()\n",
        "x_corr['Surv'] = y_train\n",
        "correlation_matrix = x_corr.corr().round(2)\n",
        "plt.subplots(figsize=(10,7))\n",
        "sns.heatmap(data=correlation_matrix, annot=True)"
      ],
      "execution_count": null,
      "outputs": [
        {
          "output_type": "execute_result",
          "data": {
            "text/plain": [
              "<matplotlib.axes._subplots.AxesSubplot at 0x7fcd433e0358>"
            ]
          },
          "metadata": {
            "tags": []
          },
          "execution_count": 24
        },
        {
          "output_type": "display_data",
          "data": {
            "image/png": "[encoded data removed]",
            "text/plain": [
              "<Figure size 720x504 with 2 Axes>"
            ]
          },
          "metadata": {
            "tags": []
          }
        }
      ]
    },
    {
      "cell_type": "markdown",
      "metadata": {
        "id": "IRss-G_YazDe"
      },
      "source": [
        "Рассмотрим признак \"Ticket\""
      ]
    },
    {
      "cell_type": "code",
      "metadata": {
        "colab": {
          "base_uri": "https://localhost:8080/"
        },
        "id": "dEswTt5Iazkq",
        "outputId": "33fb8cc5-1bdb-416b-ca3f-b55b33293f06"
      },
      "source": [
        "x['Ticket'].head(10)"
      ],
      "execution_count": null,
      "outputs": [
        {
          "output_type": "execute_result",
          "data": {
            "text/plain": [
              "0           A/5 21171\n",
              "1            PC 17599\n",
              "2    STON/O2. 3101282\n",
              "3              113803\n",
              "4              373450\n",
              "5              330877\n",
              "6               17463\n",
              "7              349909\n",
              "8              347742\n",
              "9              237736\n",
              "Name: Ticket, dtype: object"
            ]
          },
          "metadata": {
            "tags": []
          },
          "execution_count": 25
        }
      ]
    },
    {
      "cell_type": "code",
      "metadata": {
        "id": "1j5ckRMDbhsa"
      },
      "source": [
        "# удалим неинформативную переменную\n",
        "x_train.drop('Ticket',  axis = 'columns', inplace = True)\n",
        "x_test.drop('Ticket',  axis = 'columns', inplace = True)"
      ],
      "execution_count": null,
      "outputs": []
    },
    {
      "cell_type": "markdown",
      "metadata": {
        "id": "v5v0Fh97bydM"
      },
      "source": [
        "Рассмотрим признак \"Fare\""
      ]
    },
    {
      "cell_type": "code",
      "metadata": {
        "colab": {
          "base_uri": "https://localhost:8080/"
        },
        "id": "Q0rnfzEuby1p",
        "outputId": "18d29239-bbe2-4a11-c231-c4c05118d19f"
      },
      "source": [
        "x['Fare'].describe()"
      ],
      "execution_count": null,
      "outputs": [
        {
          "output_type": "execute_result",
          "data": {
            "text/plain": [
              "count    891.000000\n",
              "mean      32.204208\n",
              "std       49.693429\n",
              "min        0.000000\n",
              "25%        7.910400\n",
              "50%       14.454200\n",
              "75%       31.000000\n",
              "max      512.329200\n",
              "Name: Fare, dtype: float64"
            ]
          },
          "metadata": {
            "tags": []
          },
          "execution_count": 27
        }
      ]
    },
    {
      "cell_type": "code",
      "metadata": {
        "colab": {
          "base_uri": "https://localhost:8080/",
          "height": 451
        },
        "id": "QRGM5uIWdznK",
        "outputId": "53e9f488-121a-4062-95a1-79f7b36086d8"
      },
      "source": [
        "# создадим удельную переменную и проведем ее квантилизацию\n",
        "\n",
        "x_train['FarePerPassenger'] = x_train.apply(lambda row: row['Fare'] / row['Family_count'] if row['Alone'] == 0 else row['Fare'], axis = 1)\n",
        "x_test['FarePerPassenger'] = x_test.apply(lambda row: row['Fare'] / row['Family_count'] if row['Alone'] == 0 else row['Fare'], axis = 1)\n",
        "\n",
        "s, bins = pd.qcut(x_train['FarePerPassenger'], 6, retbins=True)\n",
        "x_train['FarePerPassenger_b'] = pd.cut(x_train['FarePerPassenger'], bins = bins, labels=False)\n",
        "x_test['FarePerPassenger_b'] = pd.cut(x_test['FarePerPassenger'], bins = bins, labels=False)\n",
        "\n",
        "x_train[\"FarePerPassenger_b\"] = x_train[\"FarePerPassenger_b\"].fillna(x_train[\"FarePerPassenger_b\"].mean())\n",
        "x_test[\"FarePerPassenger_b\"] = x_test[\"FarePerPassenger_b\"].fillna(x_test[\"FarePerPassenger_b\"].mean())\n",
        "\n",
        "x_corr = x_train[['Fare', 'FarePerPassenger', 'FarePerPassenger_b']].copy()\n",
        "x_corr['Surv'] = y_train\n",
        "correlation_matrix = x_corr.corr().round(2)\n",
        "plt.subplots(figsize=(10,7))\n",
        "sns.heatmap(data=correlation_matrix, annot=True)"
      ],
      "execution_count": null,
      "outputs": [
        {
          "output_type": "execute_result",
          "data": {
            "text/plain": [
              "<matplotlib.axes._subplots.AxesSubplot at 0x7fcd42ab0a20>"
            ]
          },
          "metadata": {
            "tags": []
          },
          "execution_count": 28
        },
        {
          "output_type": "display_data",
          "data": {
            "image/png": "[encoded data removed]",
            "text/plain": [
              "<Figure size 720x504 with 2 Axes>"
            ]
          },
          "metadata": {
            "tags": []
          }
        }
      ]
    },
    {
      "cell_type": "markdown",
      "metadata": {
        "id": "OZoHMAqUhjrH"
      },
      "source": [
        "Рассмотрим признак \"Cabin\""
      ]
    },
    {
      "cell_type": "code",
      "metadata": {
        "colab": {
          "base_uri": "https://localhost:8080/",
          "height": 194
        },
        "id": "mdEm9OOKI4l1",
        "outputId": "4c134de9-3d3d-474c-d115-d85e3536ccf0"
      },
      "source": [
        "x_train.head()"
      ],
      "execution_count": null,
      "outputs": [
        {
          "output_type": "execute_result",
          "data": {
            "text/html": [
              "<div>\n",
              "<style scoped>\n",
              "    .dataframe tbody tr th:only-of-type {\n",
              "        vertical-align: middle;\n",
              "    }\n",
              "\n",
              "    .dataframe tbody tr th {\n",
              "        vertical-align: top;\n",
              "    }\n",
              "\n",
              "    .dataframe thead th {\n",
              "        text-align: right;\n",
              "    }\n",
              "</style>\n",
              "<table border=\"1\" class=\"dataframe\">\n",
              "  <thead>\n",
              "    <tr style=\"text-align: right;\">\n",
              "      <th></th>\n",
              "      <th>Pclass</th>\n",
              "      <th>Sex</th>\n",
              "      <th>Age</th>\n",
              "      <th>SibSp</th>\n",
              "      <th>Parch</th>\n",
              "      <th>Fare</th>\n",
              "      <th>Cabin</th>\n",
              "      <th>Embarked</th>\n",
              "      <th>Age_b</th>\n",
              "      <th>Family_count</th>\n",
              "      <th>Alone</th>\n",
              "      <th>FarePerPassenger</th>\n",
              "      <th>FarePerPassenger_b</th>\n",
              "    </tr>\n",
              "  </thead>\n",
              "  <tbody>\n",
              "    <tr>\n",
              "      <th>502</th>\n",
              "      <td>3</td>\n",
              "      <td>0</td>\n",
              "      <td>29.469823</td>\n",
              "      <td>0</td>\n",
              "      <td>0</td>\n",
              "      <td>7.6292</td>\n",
              "      <td>NaN</td>\n",
              "      <td>Q</td>\n",
              "      <td>1</td>\n",
              "      <td>0</td>\n",
              "      <td>1.0</td>\n",
              "      <td>7.6292</td>\n",
              "      <td>1.0</td>\n",
              "    </tr>\n",
              "    <tr>\n",
              "      <th>464</th>\n",
              "      <td>3</td>\n",
              "      <td>1</td>\n",
              "      <td>29.469823</td>\n",
              "      <td>0</td>\n",
              "      <td>0</td>\n",
              "      <td>8.0500</td>\n",
              "      <td>NaN</td>\n",
              "      <td>S</td>\n",
              "      <td>1</td>\n",
              "      <td>0</td>\n",
              "      <td>1.0</td>\n",
              "      <td>8.0500</td>\n",
              "      <td>2.0</td>\n",
              "    </tr>\n",
              "    <tr>\n",
              "      <th>198</th>\n",
              "      <td>3</td>\n",
              "      <td>0</td>\n",
              "      <td>29.469823</td>\n",
              "      <td>0</td>\n",
              "      <td>0</td>\n",
              "      <td>7.7500</td>\n",
              "      <td>NaN</td>\n",
              "      <td>Q</td>\n",
              "      <td>1</td>\n",
              "      <td>0</td>\n",
              "      <td>1.0</td>\n",
              "      <td>7.7500</td>\n",
              "      <td>1.0</td>\n",
              "    </tr>\n",
              "    <tr>\n",
              "      <th>765</th>\n",
              "      <td>1</td>\n",
              "      <td>0</td>\n",
              "      <td>51.000000</td>\n",
              "      <td>1</td>\n",
              "      <td>0</td>\n",
              "      <td>77.9583</td>\n",
              "      <td>D11</td>\n",
              "      <td>S</td>\n",
              "      <td>2</td>\n",
              "      <td>1</td>\n",
              "      <td>0.0</td>\n",
              "      <td>77.9583</td>\n",
              "      <td>5.0</td>\n",
              "    </tr>\n",
              "    <tr>\n",
              "      <th>421</th>\n",
              "      <td>3</td>\n",
              "      <td>1</td>\n",
              "      <td>21.000000</td>\n",
              "      <td>0</td>\n",
              "      <td>0</td>\n",
              "      <td>7.7333</td>\n",
              "      <td>NaN</td>\n",
              "      <td>Q</td>\n",
              "      <td>1</td>\n",
              "      <td>0</td>\n",
              "      <td>1.0</td>\n",
              "      <td>7.7333</td>\n",
              "      <td>1.0</td>\n",
              "    </tr>\n",
              "  </tbody>\n",
              "</table>\n",
              "</div>"
            ],
            "text/plain": [
              "     Pclass  Sex        Age  ...  Alone  FarePerPassenger  FarePerPassenger_b\n",
              "502       3    0  29.469823  ...    1.0            7.6292                 1.0\n",
              "464       3    1  29.469823  ...    1.0            8.0500                 2.0\n",
              "198       3    0  29.469823  ...    1.0            7.7500                 1.0\n",
              "765       1    0  51.000000  ...    0.0           77.9583                 5.0\n",
              "421       3    1  21.000000  ...    1.0            7.7333                 1.0\n",
              "\n",
              "[5 rows x 13 columns]"
            ]
          },
          "metadata": {
            "tags": []
          },
          "execution_count": 29
        }
      ]
    },
    {
      "cell_type": "code",
      "metadata": {
        "colab": {
          "base_uri": "https://localhost:8080/"
        },
        "id": "vjGujLVUhlx0",
        "outputId": "35c8528d-2946-4e2d-ef2a-9514f7baf2f0"
      },
      "source": [
        "# отберем заглавные буквы \n",
        "x_train[\"Cabin\"].fillna('Other').apply(lambda x: str(x)[0]).value_counts()"
      ],
      "execution_count": null,
      "outputs": [
        {
          "output_type": "execute_result",
          "data": {
            "text/plain": [
              "O    552\n",
              "C     46\n",
              "B     44\n",
              "D     28\n",
              "E     24\n",
              "F      8\n",
              "A      6\n",
              "G      3\n",
              "T      1\n",
              "Name: Cabin, dtype: int64"
            ]
          },
          "metadata": {
            "tags": []
          },
          "execution_count": 30
        }
      ]
    },
    {
      "cell_type": "code",
      "metadata": {
        "id": "BPBUFBrnmlxv"
      },
      "source": [
        "# перекодируем \n",
        "def encode_cabin(x):\n",
        "    if str(x)[0] in [\"B\", \"C\", \"D\", \"E\", \"F\"]:\n",
        "        return 1\n",
        "    elif str(x)[0] in [\"A\", \"G\"]:\n",
        "        return 2\n",
        "    else:\n",
        "        return 3\n",
        "\n",
        "x_train[\"Cabin_b\"] = x_train[\"Cabin\"].apply(lambda x: encode_cabin(x))\n",
        "x_test[\"Cabin_b\"] = x_test[\"Cabin\"].apply(lambda x: encode_cabin(x))"
      ],
      "execution_count": null,
      "outputs": []
    },
    {
      "cell_type": "code",
      "metadata": {
        "colab": {
          "base_uri": "https://localhost:8080/",
          "height": 433
        },
        "id": "nFDKzzFmJJQd",
        "outputId": "2c52e689-31a7-4a4a-ec06-779dcb93bd0d"
      },
      "source": [
        "x_train.drop(labels = [\"Cabin\"], axis = 1, inplace = True)\n",
        "x_test.drop(labels = [\"Cabin\"], axis = 1, inplace = True)\n",
        "\n",
        "x_corr = x_train[['Cabin_b']].copy()\n",
        "x_corr['Surv'] = y_train\n",
        "correlation_matrix = x_corr.corr().round(2)\n",
        "plt.subplots(figsize=(10,7))\n",
        "sns.heatmap(data=correlation_matrix, annot=True);"
      ],
      "execution_count": null,
      "outputs": [
        {
          "output_type": "display_data",
          "data": {
            "image/png": "[encoded data removed]",
            "text/plain": [
              "<Figure size 720x504 with 2 Axes>"
            ]
          },
          "metadata": {
            "tags": []
          }
        }
      ]
    },
    {
      "cell_type": "markdown",
      "metadata": {
        "id": "ahlR8b67hjRk"
      },
      "source": [
        "Рассмотрим признак \"Embarked\""
      ]
    },
    {
      "cell_type": "code",
      "metadata": {
        "colab": {
          "base_uri": "https://localhost:8080/"
        },
        "id": "PRV8eoQilD88",
        "outputId": "eecb454e-26b6-47cd-8d8d-d5117cd18c81"
      },
      "source": [
        "x.Embarked.describe()"
      ],
      "execution_count": null,
      "outputs": [
        {
          "output_type": "execute_result",
          "data": {
            "text/plain": [
              "count     889\n",
              "unique      3\n",
              "top         S\n",
              "freq      644\n",
              "Name: Embarked, dtype: object"
            ]
          },
          "metadata": {
            "tags": []
          },
          "execution_count": 33
        }
      ]
    },
    {
      "cell_type": "code",
      "metadata": {
        "colab": {
          "base_uri": "https://localhost:8080/"
        },
        "id": "wyln6l_owTxH",
        "outputId": "80fa104d-ff80-4b0d-a7bd-ae85db7418fc"
      },
      "source": [
        "sum(x.Embarked.isna())"
      ],
      "execution_count": null,
      "outputs": [
        {
          "output_type": "execute_result",
          "data": {
            "text/plain": [
              "2"
            ]
          },
          "metadata": {
            "tags": []
          },
          "execution_count": 34
        }
      ]
    },
    {
      "cell_type": "code",
      "metadata": {
        "id": "TpPGbZT2lDVt"
      },
      "source": [
        "x_train[\"Embarked\"] = x_train[\"Embarked\"].fillna('S')\n",
        "x_test[\"Embarked\"] = x_test[\"Embarked\"].fillna('S')"
      ],
      "execution_count": null,
      "outputs": []
    },
    {
      "cell_type": "markdown",
      "metadata": {
        "id": "ID-JM0-kJd7L"
      },
      "source": [
        "Выполним извлечение признаков из текстового столбца с указанием географического названия"
      ]
    },
    {
      "cell_type": "code",
      "metadata": {
        "colab": {
          "base_uri": "https://localhost:8080/"
        },
        "id": "9uwEvt4PlHzy",
        "outputId": "9bd887d0-7901-40e8-fe96-7c4740b9f875"
      },
      "source": [
        "# !pip install geopy\n",
        "import geopy\n",
        "from geopy.geocoders import Nominatim\n",
        "geolocator = Nominatim()\n",
        "location = geolocator.geocode(\"Cherbourg\")\n",
        "print((location.latitude, location.longitude))"
      ],
      "execution_count": null,
      "outputs": [
        {
          "output_type": "stream",
          "text": [
            "/usr/local/lib/python3.6/dist-packages/geopy/geocoders/osm.py:143: UserWarning: Using Nominatim with the default \"geopy/1.17.0\" `user_agent` is strongly discouraged, as it violates Nominatim's ToS https://operations.osmfoundation.org/policies/nominatim/ and may possibly cause 403 and 429 HTTP errors. Please specify a custom `user_agent` with `Nominatim(user_agent=\"my-application\")` or by overriding the default `user_agent`: `geopy.geocoders.options.default_user_agent = \"my-application\"`. In geopy 2.0 this will become an exception.\n",
            "  UserWarning\n"
          ],
          "name": "stderr"
        },
        {
          "output_type": "stream",
          "text": [
            "(49.6425343, -1.6249565)\n"
          ],
          "name": "stdout"
        }
      ]
    },
    {
      "cell_type": "code",
      "metadata": {
        "colab": {
          "base_uri": "https://localhost:8080/"
        },
        "id": "O8QyPTP5lOfB",
        "outputId": "8546ffaf-f93a-45bb-e8e7-b5cfc3f260ef"
      },
      "source": [
        "location = geolocator.geocode(\"Queenstown\")\n",
        "print((location.latitude, location.longitude))"
      ],
      "execution_count": null,
      "outputs": [
        {
          "output_type": "stream",
          "text": [
            "(-45.0321923, 168.661)\n"
          ],
          "name": "stdout"
        }
      ]
    },
    {
      "cell_type": "code",
      "metadata": {
        "colab": {
          "base_uri": "https://localhost:8080/"
        },
        "id": "MtN9K79slOEK",
        "outputId": "3105d65a-960a-4083-82eb-8e6cc5ec35b8"
      },
      "source": [
        "location = geolocator.geocode(\"Southampton\")\n",
        "print((location.latitude, location.longitude))"
      ],
      "execution_count": null,
      "outputs": [
        {
          "output_type": "stream",
          "text": [
            "(50.9025349, -1.404189)\n"
          ],
          "name": "stdout"
        }
      ]
    },
    {
      "cell_type": "code",
      "metadata": {
        "id": "cYqutdeKlbjh"
      },
      "source": [
        "lat = {'C':49.6425343, 'Q':-45.0321923, 'S': 50.9025349}\n",
        "x_train['latitude'] = x_train['Embarked'].map(lat)\n",
        "x_test['latitude'] = x_test['Embarked'].map(lat)"
      ],
      "execution_count": null,
      "outputs": []
    },
    {
      "cell_type": "code",
      "metadata": {
        "id": "F3Gib_Lllk_b"
      },
      "source": [
        "lon = {'C':-1.6249565, 'Q':168.661, 'S':-1.404189}\n",
        "x_train['longitude'] = x_train['Embarked'].map(lon)\n",
        "x_test['longitude'] = x_test['Embarked'].map(lon)"
      ],
      "execution_count": null,
      "outputs": []
    },
    {
      "cell_type": "code",
      "metadata": {
        "colab": {
          "base_uri": "https://localhost:8080/"
        },
        "id": "aN1hX707hmwo",
        "outputId": "8def54df-8cd2-4e34-fb78-f21da76608bf"
      },
      "source": [
        "# произыведем кодирование исходного столбца\n",
        "labelEncoder = LabelEncoder()\n",
        "\n",
        "x_train['Embarked'] = labelEncoder.fit_transform(x_train['Embarked'])\n",
        "x_test['Embarked'] = labelEncoder.transform(x_test['Embarked'])\n",
        "x_train['Embarked'].value_counts()"
      ],
      "execution_count": null,
      "outputs": [
        {
          "output_type": "execute_result",
          "data": {
            "text/plain": [
              "2    520\n",
              "0    131\n",
              "1     61\n",
              "Name: Embarked, dtype: int64"
            ]
          },
          "metadata": {
            "tags": []
          },
          "execution_count": 41
        }
      ]
    },
    {
      "cell_type": "markdown",
      "metadata": {
        "id": "JW29qLFjp-yG"
      },
      "source": [
        "#Feature Selection "
      ]
    },
    {
      "cell_type": "markdown",
      "metadata": {
        "id": "89e2DntguYcD"
      },
      "source": [
        "Попробуем оставить только значимые признаки, выбрав их вручную"
      ]
    },
    {
      "cell_type": "code",
      "metadata": {
        "colab": {
          "base_uri": "https://localhost:8080/",
          "height": 194
        },
        "id": "djHRMVZBuWS5",
        "outputId": "d7aa3437-86f5-4463-fd5b-86cfa045cd31"
      },
      "source": [
        "x_train_manual = x_train.copy()\n",
        "x_test_manual = x_test.copy()\n",
        "x_train_manual.drop(labels = [\"Age\",\"SibSp\",\"Parch\",\"Fare\", \"Family_count\", \"FarePerPassenger\"], axis = 1, inplace = True)\n",
        "x_test_manual.drop(labels = [\"Age\",\"SibSp\",\"Parch\",\"Fare\", \"Family_count\", \"FarePerPassenger\"], axis = 1, inplace = True)\n",
        "x_test_manual.head()"
      ],
      "execution_count": null,
      "outputs": [
        {
          "output_type": "execute_result",
          "data": {
            "text/html": [
              "<div>\n",
              "<style scoped>\n",
              "    .dataframe tbody tr th:only-of-type {\n",
              "        vertical-align: middle;\n",
              "    }\n",
              "\n",
              "    .dataframe tbody tr th {\n",
              "        vertical-align: top;\n",
              "    }\n",
              "\n",
              "    .dataframe thead th {\n",
              "        text-align: right;\n",
              "    }\n",
              "</style>\n",
              "<table border=\"1\" class=\"dataframe\">\n",
              "  <thead>\n",
              "    <tr style=\"text-align: right;\">\n",
              "      <th></th>\n",
              "      <th>Pclass</th>\n",
              "      <th>Sex</th>\n",
              "      <th>Embarked</th>\n",
              "      <th>Age_b</th>\n",
              "      <th>Alone</th>\n",
              "      <th>FarePerPassenger_b</th>\n",
              "      <th>Cabin_b</th>\n",
              "      <th>latitude</th>\n",
              "      <th>longitude</th>\n",
              "    </tr>\n",
              "  </thead>\n",
              "  <tbody>\n",
              "    <tr>\n",
              "      <th>153</th>\n",
              "      <td>3</td>\n",
              "      <td>1</td>\n",
              "      <td>2</td>\n",
              "      <td>2</td>\n",
              "      <td>0.0</td>\n",
              "      <td>0.0</td>\n",
              "      <td>3</td>\n",
              "      <td>50.902535</td>\n",
              "      <td>-1.404189</td>\n",
              "    </tr>\n",
              "    <tr>\n",
              "      <th>752</th>\n",
              "      <td>3</td>\n",
              "      <td>1</td>\n",
              "      <td>2</td>\n",
              "      <td>1</td>\n",
              "      <td>1.0</td>\n",
              "      <td>2.0</td>\n",
              "      <td>3</td>\n",
              "      <td>50.902535</td>\n",
              "      <td>-1.404189</td>\n",
              "    </tr>\n",
              "    <tr>\n",
              "      <th>610</th>\n",
              "      <td>3</td>\n",
              "      <td>0</td>\n",
              "      <td>2</td>\n",
              "      <td>1</td>\n",
              "      <td>0.0</td>\n",
              "      <td>0.0</td>\n",
              "      <td>3</td>\n",
              "      <td>50.902535</td>\n",
              "      <td>-1.404189</td>\n",
              "    </tr>\n",
              "    <tr>\n",
              "      <th>200</th>\n",
              "      <td>3</td>\n",
              "      <td>1</td>\n",
              "      <td>2</td>\n",
              "      <td>1</td>\n",
              "      <td>1.0</td>\n",
              "      <td>2.0</td>\n",
              "      <td>3</td>\n",
              "      <td>50.902535</td>\n",
              "      <td>-1.404189</td>\n",
              "    </tr>\n",
              "    <tr>\n",
              "      <th>310</th>\n",
              "      <td>1</td>\n",
              "      <td>0</td>\n",
              "      <td>0</td>\n",
              "      <td>1</td>\n",
              "      <td>1.0</td>\n",
              "      <td>5.0</td>\n",
              "      <td>1</td>\n",
              "      <td>49.642534</td>\n",
              "      <td>-1.624956</td>\n",
              "    </tr>\n",
              "  </tbody>\n",
              "</table>\n",
              "</div>"
            ],
            "text/plain": [
              "     Pclass  Sex  Embarked  ...  Cabin_b   latitude  longitude\n",
              "153       3    1         2  ...        3  50.902535  -1.404189\n",
              "752       3    1         2  ...        3  50.902535  -1.404189\n",
              "610       3    0         2  ...        3  50.902535  -1.404189\n",
              "200       3    1         2  ...        3  50.902535  -1.404189\n",
              "310       1    0         0  ...        1  49.642534  -1.624956\n",
              "\n",
              "[5 rows x 9 columns]"
            ]
          },
          "metadata": {
            "tags": []
          },
          "execution_count": 42
        }
      ]
    },
    {
      "cell_type": "markdown",
      "metadata": {
        "id": "vz9SBODgvzjG"
      },
      "source": [
        "Теперь попробуем применить SelectFromModel + ExtraTreesClassifier"
      ]
    },
    {
      "cell_type": "code",
      "metadata": {
        "colab": {
          "base_uri": "https://localhost:8080/"
        },
        "id": "3GnxX-xRZmSo",
        "outputId": "470999b7-f8fc-4f76-bb1d-3e41850bef76"
      },
      "source": [
        "x_test.info()"
      ],
      "execution_count": null,
      "outputs": [
        {
          "output_type": "stream",
          "text": [
            "<class 'pandas.core.frame.DataFrame'>\n",
            "Int64Index: 179 entries, 153 to 143\n",
            "Data columns (total 15 columns):\n",
            " #   Column              Non-Null Count  Dtype  \n",
            "---  ------              --------------  -----  \n",
            " 0   Pclass              179 non-null    int64  \n",
            " 1   Sex                 179 non-null    int64  \n",
            " 2   Age                 179 non-null    float64\n",
            " 3   SibSp               179 non-null    int64  \n",
            " 4   Parch               179 non-null    int64  \n",
            " 5   Fare                179 non-null    float64\n",
            " 6   Embarked            179 non-null    int64  \n",
            " 7   Age_b               179 non-null    int64  \n",
            " 8   Family_count        179 non-null    int64  \n",
            " 9   Alone               179 non-null    float64\n",
            " 10  FarePerPassenger    179 non-null    float64\n",
            " 11  FarePerPassenger_b  179 non-null    float64\n",
            " 12  Cabin_b             179 non-null    int64  \n",
            " 13  latitude            179 non-null    float64\n",
            " 14  longitude           179 non-null    float64\n",
            "dtypes: float64(7), int64(8)\n",
            "memory usage: 22.4 KB\n"
          ],
          "name": "stdout"
        }
      ]
    },
    {
      "cell_type": "code",
      "metadata": {
        "colab": {
          "base_uri": "https://localhost:8080/",
          "height": 194
        },
        "id": "NtuNUrsveUwv",
        "outputId": "8a8a7933-99e9-4109-dd3d-b1b9c42d7326"
      },
      "source": [
        "x_train_select = x_train.copy()\n",
        "x_test_select = x_test.copy()\n",
        "\n",
        "estimator = ExtraTreesClassifier(n_estimators = 10)\n",
        "featureSelection = SelectFromModel(estimator)\n",
        "featureSelection.fit(x_train_select, y_train)\n",
        "x_train_select = pd.DataFrame(featureSelection.transform(x_train_select), columns = x_train_select.columns.values[featureSelection.get_support()]) \n",
        "x_test_select = pd.DataFrame(featureSelection.transform(x_test_select), columns = x_test_select.columns.values[featureSelection.get_support()]) \n",
        "x_train_select.head()"
      ],
      "execution_count": null,
      "outputs": [
        {
          "output_type": "execute_result",
          "data": {
            "text/html": [
              "<div>\n",
              "<style scoped>\n",
              "    .dataframe tbody tr th:only-of-type {\n",
              "        vertical-align: middle;\n",
              "    }\n",
              "\n",
              "    .dataframe tbody tr th {\n",
              "        vertical-align: top;\n",
              "    }\n",
              "\n",
              "    .dataframe thead th {\n",
              "        text-align: right;\n",
              "    }\n",
              "</style>\n",
              "<table border=\"1\" class=\"dataframe\">\n",
              "  <thead>\n",
              "    <tr style=\"text-align: right;\">\n",
              "      <th></th>\n",
              "      <th>Sex</th>\n",
              "      <th>Age</th>\n",
              "      <th>Fare</th>\n",
              "      <th>FarePerPassenger</th>\n",
              "      <th>FarePerPassenger_b</th>\n",
              "    </tr>\n",
              "  </thead>\n",
              "  <tbody>\n",
              "    <tr>\n",
              "      <th>0</th>\n",
              "      <td>0.0</td>\n",
              "      <td>29.469823</td>\n",
              "      <td>7.6292</td>\n",
              "      <td>7.6292</td>\n",
              "      <td>1.0</td>\n",
              "    </tr>\n",
              "    <tr>\n",
              "      <th>1</th>\n",
              "      <td>1.0</td>\n",
              "      <td>29.469823</td>\n",
              "      <td>8.0500</td>\n",
              "      <td>8.0500</td>\n",
              "      <td>2.0</td>\n",
              "    </tr>\n",
              "    <tr>\n",
              "      <th>2</th>\n",
              "      <td>0.0</td>\n",
              "      <td>29.469823</td>\n",
              "      <td>7.7500</td>\n",
              "      <td>7.7500</td>\n",
              "      <td>1.0</td>\n",
              "    </tr>\n",
              "    <tr>\n",
              "      <th>3</th>\n",
              "      <td>0.0</td>\n",
              "      <td>51.000000</td>\n",
              "      <td>77.9583</td>\n",
              "      <td>77.9583</td>\n",
              "      <td>5.0</td>\n",
              "    </tr>\n",
              "    <tr>\n",
              "      <th>4</th>\n",
              "      <td>1.0</td>\n",
              "      <td>21.000000</td>\n",
              "      <td>7.7333</td>\n",
              "      <td>7.7333</td>\n",
              "      <td>1.0</td>\n",
              "    </tr>\n",
              "  </tbody>\n",
              "</table>\n",
              "</div>"
            ],
            "text/plain": [
              "   Sex        Age     Fare  FarePerPassenger  FarePerPassenger_b\n",
              "0  0.0  29.469823   7.6292            7.6292                 1.0\n",
              "1  1.0  29.469823   8.0500            8.0500                 2.0\n",
              "2  0.0  29.469823   7.7500            7.7500                 1.0\n",
              "3  0.0  51.000000  77.9583           77.9583                 5.0\n",
              "4  1.0  21.000000   7.7333            7.7333                 1.0"
            ]
          },
          "metadata": {
            "tags": []
          },
          "execution_count": 46
        }
      ]
    },
    {
      "cell_type": "markdown",
      "metadata": {
        "id": "hqPEQ97ZwXtu"
      },
      "source": [
        "Теперь попробуем применить SelectKBest + chi2"
      ]
    },
    {
      "cell_type": "code",
      "metadata": {
        "colab": {
          "base_uri": "https://localhost:8080/",
          "height": 194
        },
        "id": "jNQVMEcWoRnf",
        "outputId": "4fe15988-ccc8-44de-f448-4386acff458f"
      },
      "source": [
        "x_train_select2 = x_train.copy()\n",
        "x_test_select2 = x_test.copy()\n",
        "\n",
        "featureSelection = SelectKBest(chi2, k=6) \n",
        "featureSelection.fit(x_train_select2.iloc[:,:-2], y_train)\n",
        "x_train_select2 = pd.DataFrame(featureSelection.transform(x_train_select2.iloc[:,:-2]), columns = x_train_select2.iloc[:,:-2].columns.values[featureSelection.get_support()]) \n",
        "x_test_select2 = pd.DataFrame(featureSelection.transform(x_test_select2.iloc[:,:-2]), columns = x_test_select2.iloc[:,:-2].columns.values[featureSelection.get_support()]) \n",
        "x_train_select2.head()"
      ],
      "execution_count": null,
      "outputs": [
        {
          "output_type": "execute_result",
          "data": {
            "text/html": [
              "<div>\n",
              "<style scoped>\n",
              "    .dataframe tbody tr th:only-of-type {\n",
              "        vertical-align: middle;\n",
              "    }\n",
              "\n",
              "    .dataframe tbody tr th {\n",
              "        vertical-align: top;\n",
              "    }\n",
              "\n",
              "    .dataframe thead th {\n",
              "        text-align: right;\n",
              "    }\n",
              "</style>\n",
              "<table border=\"1\" class=\"dataframe\">\n",
              "  <thead>\n",
              "    <tr style=\"text-align: right;\">\n",
              "      <th></th>\n",
              "      <th>Pclass</th>\n",
              "      <th>Sex</th>\n",
              "      <th>Fare</th>\n",
              "      <th>FarePerPassenger</th>\n",
              "      <th>FarePerPassenger_b</th>\n",
              "      <th>Cabin_b</th>\n",
              "    </tr>\n",
              "  </thead>\n",
              "  <tbody>\n",
              "    <tr>\n",
              "      <th>0</th>\n",
              "      <td>3.0</td>\n",
              "      <td>0.0</td>\n",
              "      <td>7.6292</td>\n",
              "      <td>7.6292</td>\n",
              "      <td>1.0</td>\n",
              "      <td>3.0</td>\n",
              "    </tr>\n",
              "    <tr>\n",
              "      <th>1</th>\n",
              "      <td>3.0</td>\n",
              "      <td>1.0</td>\n",
              "      <td>8.0500</td>\n",
              "      <td>8.0500</td>\n",
              "      <td>2.0</td>\n",
              "      <td>3.0</td>\n",
              "    </tr>\n",
              "    <tr>\n",
              "      <th>2</th>\n",
              "      <td>3.0</td>\n",
              "      <td>0.0</td>\n",
              "      <td>7.7500</td>\n",
              "      <td>7.7500</td>\n",
              "      <td>1.0</td>\n",
              "      <td>3.0</td>\n",
              "    </tr>\n",
              "    <tr>\n",
              "      <th>3</th>\n",
              "      <td>1.0</td>\n",
              "      <td>0.0</td>\n",
              "      <td>77.9583</td>\n",
              "      <td>77.9583</td>\n",
              "      <td>5.0</td>\n",
              "      <td>1.0</td>\n",
              "    </tr>\n",
              "    <tr>\n",
              "      <th>4</th>\n",
              "      <td>3.0</td>\n",
              "      <td>1.0</td>\n",
              "      <td>7.7333</td>\n",
              "      <td>7.7333</td>\n",
              "      <td>1.0</td>\n",
              "      <td>3.0</td>\n",
              "    </tr>\n",
              "  </tbody>\n",
              "</table>\n",
              "</div>"
            ],
            "text/plain": [
              "   Pclass  Sex     Fare  FarePerPassenger  FarePerPassenger_b  Cabin_b\n",
              "0     3.0  0.0   7.6292            7.6292                 1.0      3.0\n",
              "1     3.0  1.0   8.0500            8.0500                 2.0      3.0\n",
              "2     3.0  0.0   7.7500            7.7500                 1.0      3.0\n",
              "3     1.0  0.0  77.9583           77.9583                 5.0      1.0\n",
              "4     3.0  1.0   7.7333            7.7333                 1.0      3.0"
            ]
          },
          "metadata": {
            "tags": []
          },
          "execution_count": 47
        }
      ]
    },
    {
      "cell_type": "markdown",
      "metadata": {
        "id": "f9kCb2KWRoUf"
      },
      "source": [
        "#Обучение"
      ]
    },
    {
      "cell_type": "code",
      "metadata": {
        "id": "kcxTW_ePczB5"
      },
      "source": [
        "# поскольку будем использовать для обучения логистическую регрессию, то приведем признаки к единому масштабу\n",
        "from sklearn.preprocessing import StandardScaler\n",
        "sc1 = StandardScaler()\n",
        "x_train_manual_new = sc1.fit_transform(x_train_manual)\n",
        "x_train_manual_new = pd.DataFrame(x_train_manual_new, columns = x_train_manual.columns)\n",
        "x_test_manual_new = sc1.transform(x_test_manual)\n",
        "x_test_manual_new = pd.DataFrame(x_test_manual_new, columns = x_test_manual.columns)\n",
        "\n",
        "sc2 = StandardScaler()\n",
        "x_train_select_new = sc2.fit_transform(x_train_select)\n",
        "x_train_select_new = pd.DataFrame(x_train_select_new, columns = x_train_select.columns)\n",
        "x_test_select_new = sc2.transform(x_test_select)\n",
        "x_test_select_new = pd.DataFrame(x_test_select_new, columns = x_test_select.columns)\n",
        "\n",
        "sc3 = StandardScaler()\n",
        "x_train_select2_new = sc3.fit_transform(x_train_select2)\n",
        "x_train_select2_new = pd.DataFrame(x_train_select2_new, columns = x_train_select2.columns)\n",
        "x_test_select2_new = sc3.transform(x_test_select2)\n",
        "x_test_select2_new = pd.DataFrame(x_test_select2_new, columns = x_test_select2.columns)"
      ],
      "execution_count": null,
      "outputs": []
    },
    {
      "cell_type": "code",
      "metadata": {
        "colab": {
          "base_uri": "https://localhost:8080/"
        },
        "id": "gBBQekejR9NB",
        "outputId": "98aa16d3-557f-476b-ca34-3961717479fb"
      },
      "source": [
        "# обучим модель №1\n",
        "logisticRegression = LogisticRegression(random_state=42)\n",
        "logisticRegression.fit(x_train_manual_new, y_train)\n",
        "print(\"Train Accuracy: \", logisticRegression.score(x_train_manual_new, y_train))\n",
        "print(\"Test Accuracy: \", logisticRegression.score(x_test_manual_new, y_test))"
      ],
      "execution_count": null,
      "outputs": [
        {
          "output_type": "stream",
          "text": [
            "Train Accuracy:  0.8033707865168539\n",
            "Test Accuracy:  0.8100558659217877\n"
          ],
          "name": "stdout"
        }
      ]
    },
    {
      "cell_type": "code",
      "metadata": {
        "colab": {
          "base_uri": "https://localhost:8080/"
        },
        "id": "qFR6jMWWmTa0",
        "outputId": "ed8d8705-6630-4519-9e4c-a9ed5f4b2fbd"
      },
      "source": [
        "# обучим модель №2\n",
        "logisticRegression = LogisticRegression(random_state=42)\n",
        "logisticRegression.fit(x_train_select_new, y_train)\n",
        "print(\"Train Accuracy: \", logisticRegression.score(x_train_select_new, y_train))\n",
        "print(\"Test Accuracy: \", logisticRegression.score(x_test_select_new, y_test))"
      ],
      "execution_count": null,
      "outputs": [
        {
          "output_type": "stream",
          "text": [
            "Train Accuracy:  0.7865168539325843\n",
            "Test Accuracy:  0.7988826815642458\n"
          ],
          "name": "stdout"
        }
      ]
    },
    {
      "cell_type": "code",
      "metadata": {
        "colab": {
          "base_uri": "https://localhost:8080/"
        },
        "id": "ubqMnEeUoo97",
        "outputId": "c40afc59-289c-4e2b-9cf8-ae45ea963f77"
      },
      "source": [
        "# обучим модель №3\n",
        "logisticRegression = LogisticRegression(random_state=42)\n",
        "logisticRegression.fit(x_train_select2_new, y_train)\n",
        "print(\"Train Accuracy: \", logisticRegression.score(x_train_select2_new, y_train))\n",
        "print(\"Test Accuracy: \", logisticRegression.score(x_test_select2_new, y_test))"
      ],
      "execution_count": null,
      "outputs": [
        {
          "output_type": "stream",
          "text": [
            "Train Accuracy:  0.7935393258426966\n",
            "Test Accuracy:  0.770949720670391\n"
          ],
          "name": "stdout"
        }
      ]
    },
    {
      "cell_type": "code",
      "metadata": {
        "colab": {
          "base_uri": "https://localhost:8080/"
        },
        "id": "kIXjsL0TvCLB",
        "outputId": "1e20ed87-aa6d-4f65-fb32-f4c83ac35676"
      },
      "source": [
        "# обучим модель №4\n",
        "randomForestClassifier = RandomForestClassifier(n_estimators = 1000, max_depth = 2, max_features='log2', random_state=42)\n",
        "randomForestClassifier.fit(x_train, y_train)\n",
        "print(\"Train Accuracy: \", randomForestClassifier.score(x_train, y_train))\n",
        "print(\"Test Accuracy: \", randomForestClassifier.score(x_test, y_test))"
      ],
      "execution_count": null,
      "outputs": [
        {
          "output_type": "stream",
          "text": [
            "Train Accuracy:  0.7865168539325843\n",
            "Test Accuracy:  0.7486033519553073\n"
          ],
          "name": "stdout"
        }
      ]
    },
    {
      "cell_type": "code",
      "metadata": {
        "colab": {
          "base_uri": "https://localhost:8080/",
          "height": 194
        },
        "id": "IY7SUaVvWGRO",
        "outputId": "c0f8b22f-28d1-444d-ad13-6a3b783e88f2"
      },
      "source": [
        "x_train.head()"
      ],
      "execution_count": null,
      "outputs": [
        {
          "output_type": "execute_result",
          "data": {
            "text/html": [
              "<div>\n",
              "<style scoped>\n",
              "    .dataframe tbody tr th:only-of-type {\n",
              "        vertical-align: middle;\n",
              "    }\n",
              "\n",
              "    .dataframe tbody tr th {\n",
              "        vertical-align: top;\n",
              "    }\n",
              "\n",
              "    .dataframe thead th {\n",
              "        text-align: right;\n",
              "    }\n",
              "</style>\n",
              "<table border=\"1\" class=\"dataframe\">\n",
              "  <thead>\n",
              "    <tr style=\"text-align: right;\">\n",
              "      <th></th>\n",
              "      <th>Pclass</th>\n",
              "      <th>Sex</th>\n",
              "      <th>Age</th>\n",
              "      <th>SibSp</th>\n",
              "      <th>Parch</th>\n",
              "      <th>Fare</th>\n",
              "      <th>Embarked</th>\n",
              "      <th>Age_b</th>\n",
              "      <th>Family_count</th>\n",
              "      <th>Alone</th>\n",
              "      <th>FarePerPassenger</th>\n",
              "      <th>FarePerPassenger_b</th>\n",
              "      <th>Cabin_b</th>\n",
              "      <th>latitude</th>\n",
              "      <th>longitude</th>\n",
              "    </tr>\n",
              "  </thead>\n",
              "  <tbody>\n",
              "    <tr>\n",
              "      <th>502</th>\n",
              "      <td>3</td>\n",
              "      <td>0</td>\n",
              "      <td>29.469823</td>\n",
              "      <td>0</td>\n",
              "      <td>0</td>\n",
              "      <td>7.6292</td>\n",
              "      <td>1</td>\n",
              "      <td>1</td>\n",
              "      <td>0</td>\n",
              "      <td>1.0</td>\n",
              "      <td>7.6292</td>\n",
              "      <td>1.0</td>\n",
              "      <td>3</td>\n",
              "      <td>-45.032192</td>\n",
              "      <td>168.661000</td>\n",
              "    </tr>\n",
              "    <tr>\n",
              "      <th>464</th>\n",
              "      <td>3</td>\n",
              "      <td>1</td>\n",
              "      <td>29.469823</td>\n",
              "      <td>0</td>\n",
              "      <td>0</td>\n",
              "      <td>8.0500</td>\n",
              "      <td>2</td>\n",
              "      <td>1</td>\n",
              "      <td>0</td>\n",
              "      <td>1.0</td>\n",
              "      <td>8.0500</td>\n",
              "      <td>2.0</td>\n",
              "      <td>3</td>\n",
              "      <td>50.902535</td>\n",
              "      <td>-1.404189</td>\n",
              "    </tr>\n",
              "    <tr>\n",
              "      <th>198</th>\n",
              "      <td>3</td>\n",
              "      <td>0</td>\n",
              "      <td>29.469823</td>\n",
              "      <td>0</td>\n",
              "      <td>0</td>\n",
              "      <td>7.7500</td>\n",
              "      <td>1</td>\n",
              "      <td>1</td>\n",
              "      <td>0</td>\n",
              "      <td>1.0</td>\n",
              "      <td>7.7500</td>\n",
              "      <td>1.0</td>\n",
              "      <td>3</td>\n",
              "      <td>-45.032192</td>\n",
              "      <td>168.661000</td>\n",
              "    </tr>\n",
              "    <tr>\n",
              "      <th>765</th>\n",
              "      <td>1</td>\n",
              "      <td>0</td>\n",
              "      <td>51.000000</td>\n",
              "      <td>1</td>\n",
              "      <td>0</td>\n",
              "      <td>77.9583</td>\n",
              "      <td>2</td>\n",
              "      <td>2</td>\n",
              "      <td>1</td>\n",
              "      <td>0.0</td>\n",
              "      <td>77.9583</td>\n",
              "      <td>5.0</td>\n",
              "      <td>1</td>\n",
              "      <td>50.902535</td>\n",
              "      <td>-1.404189</td>\n",
              "    </tr>\n",
              "    <tr>\n",
              "      <th>421</th>\n",
              "      <td>3</td>\n",
              "      <td>1</td>\n",
              "      <td>21.000000</td>\n",
              "      <td>0</td>\n",
              "      <td>0</td>\n",
              "      <td>7.7333</td>\n",
              "      <td>1</td>\n",
              "      <td>1</td>\n",
              "      <td>0</td>\n",
              "      <td>1.0</td>\n",
              "      <td>7.7333</td>\n",
              "      <td>1.0</td>\n",
              "      <td>3</td>\n",
              "      <td>-45.032192</td>\n",
              "      <td>168.661000</td>\n",
              "    </tr>\n",
              "  </tbody>\n",
              "</table>\n",
              "</div>"
            ],
            "text/plain": [
              "     Pclass  Sex        Age  ...  Cabin_b   latitude   longitude\n",
              "502       3    0  29.469823  ...        3 -45.032192  168.661000\n",
              "464       3    1  29.469823  ...        3  50.902535   -1.404189\n",
              "198       3    0  29.469823  ...        3 -45.032192  168.661000\n",
              "765       1    0  51.000000  ...        1  50.902535   -1.404189\n",
              "421       3    1  21.000000  ...        3 -45.032192  168.661000\n",
              "\n",
              "[5 rows x 15 columns]"
            ]
          },
          "metadata": {
            "tags": []
          },
          "execution_count": 53
        }
      ]
    },
    {
      "cell_type": "code",
      "metadata": {
        "id": "imMROHdsWKFL"
      },
      "source": [
        "# сгенерим взаимодествия между столбцами\n",
        "from sklearn.preprocessing import PolynomialFeatures\n",
        "\n",
        "poly = PolynomialFeatures(interaction_only=True,include_bias = False)\n",
        "x_train_2 = poly.fit_transform(x_train)\n",
        "x_train_2 = pd.DataFrame(x_train_2, columns = poly.get_feature_names(x_train.columns))\n",
        "x_test_2 = poly.fit_transform(x_test)\n",
        "x_test_2 = pd.DataFrame(x_test_2, columns = poly.get_feature_names(x_test.columns))"
      ],
      "execution_count": null,
      "outputs": []
    },
    {
      "cell_type": "code",
      "metadata": {
        "colab": {
          "base_uri": "https://localhost:8080/",
          "height": 260
        },
        "id": "FBv_Y9ZuXiuF",
        "outputId": "4ca30aed-a26e-4c47-e84f-1a5494a045b8"
      },
      "source": [
        "x_train_2.head()"
      ],
      "execution_count": null,
      "outputs": [
        {
          "output_type": "execute_result",
          "data": {
            "text/html": [
              "<div>\n",
              "<style scoped>\n",
              "    .dataframe tbody tr th:only-of-type {\n",
              "        vertical-align: middle;\n",
              "    }\n",
              "\n",
              "    .dataframe tbody tr th {\n",
              "        vertical-align: top;\n",
              "    }\n",
              "\n",
              "    .dataframe thead th {\n",
              "        text-align: right;\n",
              "    }\n",
              "</style>\n",
              "<table border=\"1\" class=\"dataframe\">\n",
              "  <thead>\n",
              "    <tr style=\"text-align: right;\">\n",
              "      <th></th>\n",
              "      <th>Pclass</th>\n",
              "      <th>Sex</th>\n",
              "      <th>Age</th>\n",
              "      <th>SibSp</th>\n",
              "      <th>Parch</th>\n",
              "      <th>Fare</th>\n",
              "      <th>Embarked</th>\n",
              "      <th>Age_b</th>\n",
              "      <th>Family_count</th>\n",
              "      <th>Alone</th>\n",
              "      <th>FarePerPassenger</th>\n",
              "      <th>FarePerPassenger_b</th>\n",
              "      <th>Cabin_b</th>\n",
              "      <th>latitude</th>\n",
              "      <th>longitude</th>\n",
              "      <th>Pclass Sex</th>\n",
              "      <th>Pclass Age</th>\n",
              "      <th>Pclass SibSp</th>\n",
              "      <th>Pclass Parch</th>\n",
              "      <th>Pclass Fare</th>\n",
              "      <th>Pclass Embarked</th>\n",
              "      <th>Pclass Age_b</th>\n",
              "      <th>Pclass Family_count</th>\n",
              "      <th>Pclass Alone</th>\n",
              "      <th>Pclass FarePerPassenger</th>\n",
              "      <th>Pclass FarePerPassenger_b</th>\n",
              "      <th>Pclass Cabin_b</th>\n",
              "      <th>Pclass latitude</th>\n",
              "      <th>Pclass longitude</th>\n",
              "      <th>Sex Age</th>\n",
              "      <th>Sex SibSp</th>\n",
              "      <th>Sex Parch</th>\n",
              "      <th>Sex Fare</th>\n",
              "      <th>Sex Embarked</th>\n",
              "      <th>Sex Age_b</th>\n",
              "      <th>Sex Family_count</th>\n",
              "      <th>Sex Alone</th>\n",
              "      <th>Sex FarePerPassenger</th>\n",
              "      <th>Sex FarePerPassenger_b</th>\n",
              "      <th>Sex Cabin_b</th>\n",
              "      <th>...</th>\n",
              "      <th>Fare FarePerPassenger_b</th>\n",
              "      <th>Fare Cabin_b</th>\n",
              "      <th>Fare latitude</th>\n",
              "      <th>Fare longitude</th>\n",
              "      <th>Embarked Age_b</th>\n",
              "      <th>Embarked Family_count</th>\n",
              "      <th>Embarked Alone</th>\n",
              "      <th>Embarked FarePerPassenger</th>\n",
              "      <th>Embarked FarePerPassenger_b</th>\n",
              "      <th>Embarked Cabin_b</th>\n",
              "      <th>Embarked latitude</th>\n",
              "      <th>Embarked longitude</th>\n",
              "      <th>Age_b Family_count</th>\n",
              "      <th>Age_b Alone</th>\n",
              "      <th>Age_b FarePerPassenger</th>\n",
              "      <th>Age_b FarePerPassenger_b</th>\n",
              "      <th>Age_b Cabin_b</th>\n",
              "      <th>Age_b latitude</th>\n",
              "      <th>Age_b longitude</th>\n",
              "      <th>Family_count Alone</th>\n",
              "      <th>Family_count FarePerPassenger</th>\n",
              "      <th>Family_count FarePerPassenger_b</th>\n",
              "      <th>Family_count Cabin_b</th>\n",
              "      <th>Family_count latitude</th>\n",
              "      <th>Family_count longitude</th>\n",
              "      <th>Alone FarePerPassenger</th>\n",
              "      <th>Alone FarePerPassenger_b</th>\n",
              "      <th>Alone Cabin_b</th>\n",
              "      <th>Alone latitude</th>\n",
              "      <th>Alone longitude</th>\n",
              "      <th>FarePerPassenger FarePerPassenger_b</th>\n",
              "      <th>FarePerPassenger Cabin_b</th>\n",
              "      <th>FarePerPassenger latitude</th>\n",
              "      <th>FarePerPassenger longitude</th>\n",
              "      <th>FarePerPassenger_b Cabin_b</th>\n",
              "      <th>FarePerPassenger_b latitude</th>\n",
              "      <th>FarePerPassenger_b longitude</th>\n",
              "      <th>Cabin_b latitude</th>\n",
              "      <th>Cabin_b longitude</th>\n",
              "      <th>latitude longitude</th>\n",
              "    </tr>\n",
              "  </thead>\n",
              "  <tbody>\n",
              "    <tr>\n",
              "      <th>0</th>\n",
              "      <td>3.0</td>\n",
              "      <td>0.0</td>\n",
              "      <td>29.469823</td>\n",
              "      <td>0.0</td>\n",
              "      <td>0.0</td>\n",
              "      <td>7.6292</td>\n",
              "      <td>1.0</td>\n",
              "      <td>1.0</td>\n",
              "      <td>0.0</td>\n",
              "      <td>1.0</td>\n",
              "      <td>7.6292</td>\n",
              "      <td>1.0</td>\n",
              "      <td>3.0</td>\n",
              "      <td>-45.032192</td>\n",
              "      <td>168.661000</td>\n",
              "      <td>0.0</td>\n",
              "      <td>88.40947</td>\n",
              "      <td>0.0</td>\n",
              "      <td>0.0</td>\n",
              "      <td>22.8876</td>\n",
              "      <td>3.0</td>\n",
              "      <td>3.0</td>\n",
              "      <td>0.0</td>\n",
              "      <td>3.0</td>\n",
              "      <td>22.8876</td>\n",
              "      <td>3.0</td>\n",
              "      <td>9.0</td>\n",
              "      <td>-135.096577</td>\n",
              "      <td>505.983000</td>\n",
              "      <td>0.000000</td>\n",
              "      <td>0.0</td>\n",
              "      <td>0.0</td>\n",
              "      <td>0.0000</td>\n",
              "      <td>0.0</td>\n",
              "      <td>0.0</td>\n",
              "      <td>0.0</td>\n",
              "      <td>0.0</td>\n",
              "      <td>0.0000</td>\n",
              "      <td>0.0</td>\n",
              "      <td>0.0</td>\n",
              "      <td>...</td>\n",
              "      <td>7.6292</td>\n",
              "      <td>22.8876</td>\n",
              "      <td>-343.559601</td>\n",
              "      <td>1286.748501</td>\n",
              "      <td>1.0</td>\n",
              "      <td>0.0</td>\n",
              "      <td>1.0</td>\n",
              "      <td>7.6292</td>\n",
              "      <td>1.0</td>\n",
              "      <td>3.0</td>\n",
              "      <td>-45.032192</td>\n",
              "      <td>168.661000</td>\n",
              "      <td>0.0</td>\n",
              "      <td>1.0</td>\n",
              "      <td>7.6292</td>\n",
              "      <td>1.0</td>\n",
              "      <td>3.0</td>\n",
              "      <td>-45.032192</td>\n",
              "      <td>168.661000</td>\n",
              "      <td>0.0</td>\n",
              "      <td>0.0000</td>\n",
              "      <td>0.0</td>\n",
              "      <td>0.0</td>\n",
              "      <td>-0.000000</td>\n",
              "      <td>0.000000</td>\n",
              "      <td>7.6292</td>\n",
              "      <td>1.0</td>\n",
              "      <td>3.0</td>\n",
              "      <td>-45.032192</td>\n",
              "      <td>168.661000</td>\n",
              "      <td>7.6292</td>\n",
              "      <td>22.8876</td>\n",
              "      <td>-343.559601</td>\n",
              "      <td>1286.748501</td>\n",
              "      <td>3.0</td>\n",
              "      <td>-45.032192</td>\n",
              "      <td>168.661000</td>\n",
              "      <td>-135.096577</td>\n",
              "      <td>505.983000</td>\n",
              "      <td>-7595.174586</td>\n",
              "    </tr>\n",
              "    <tr>\n",
              "      <th>1</th>\n",
              "      <td>3.0</td>\n",
              "      <td>1.0</td>\n",
              "      <td>29.469823</td>\n",
              "      <td>0.0</td>\n",
              "      <td>0.0</td>\n",
              "      <td>8.0500</td>\n",
              "      <td>2.0</td>\n",
              "      <td>1.0</td>\n",
              "      <td>0.0</td>\n",
              "      <td>1.0</td>\n",
              "      <td>8.0500</td>\n",
              "      <td>2.0</td>\n",
              "      <td>3.0</td>\n",
              "      <td>50.902535</td>\n",
              "      <td>-1.404189</td>\n",
              "      <td>3.0</td>\n",
              "      <td>88.40947</td>\n",
              "      <td>0.0</td>\n",
              "      <td>0.0</td>\n",
              "      <td>24.1500</td>\n",
              "      <td>6.0</td>\n",
              "      <td>3.0</td>\n",
              "      <td>0.0</td>\n",
              "      <td>3.0</td>\n",
              "      <td>24.1500</td>\n",
              "      <td>6.0</td>\n",
              "      <td>9.0</td>\n",
              "      <td>152.707605</td>\n",
              "      <td>-4.212567</td>\n",
              "      <td>29.469823</td>\n",
              "      <td>0.0</td>\n",
              "      <td>0.0</td>\n",
              "      <td>8.0500</td>\n",
              "      <td>2.0</td>\n",
              "      <td>1.0</td>\n",
              "      <td>0.0</td>\n",
              "      <td>1.0</td>\n",
              "      <td>8.0500</td>\n",
              "      <td>2.0</td>\n",
              "      <td>3.0</td>\n",
              "      <td>...</td>\n",
              "      <td>16.1000</td>\n",
              "      <td>24.1500</td>\n",
              "      <td>409.765406</td>\n",
              "      <td>-11.303721</td>\n",
              "      <td>2.0</td>\n",
              "      <td>0.0</td>\n",
              "      <td>2.0</td>\n",
              "      <td>16.1000</td>\n",
              "      <td>4.0</td>\n",
              "      <td>6.0</td>\n",
              "      <td>101.805070</td>\n",
              "      <td>-2.808378</td>\n",
              "      <td>0.0</td>\n",
              "      <td>1.0</td>\n",
              "      <td>8.0500</td>\n",
              "      <td>2.0</td>\n",
              "      <td>3.0</td>\n",
              "      <td>50.902535</td>\n",
              "      <td>-1.404189</td>\n",
              "      <td>0.0</td>\n",
              "      <td>0.0000</td>\n",
              "      <td>0.0</td>\n",
              "      <td>0.0</td>\n",
              "      <td>0.000000</td>\n",
              "      <td>-0.000000</td>\n",
              "      <td>8.0500</td>\n",
              "      <td>2.0</td>\n",
              "      <td>3.0</td>\n",
              "      <td>50.902535</td>\n",
              "      <td>-1.404189</td>\n",
              "      <td>16.1000</td>\n",
              "      <td>24.1500</td>\n",
              "      <td>409.765406</td>\n",
              "      <td>-11.303721</td>\n",
              "      <td>6.0</td>\n",
              "      <td>101.805070</td>\n",
              "      <td>-2.808378</td>\n",
              "      <td>152.707605</td>\n",
              "      <td>-4.212567</td>\n",
              "      <td>-71.476780</td>\n",
              "    </tr>\n",
              "    <tr>\n",
              "      <th>2</th>\n",
              "      <td>3.0</td>\n",
              "      <td>0.0</td>\n",
              "      <td>29.469823</td>\n",
              "      <td>0.0</td>\n",
              "      <td>0.0</td>\n",
              "      <td>7.7500</td>\n",
              "      <td>1.0</td>\n",
              "      <td>1.0</td>\n",
              "      <td>0.0</td>\n",
              "      <td>1.0</td>\n",
              "      <td>7.7500</td>\n",
              "      <td>1.0</td>\n",
              "      <td>3.0</td>\n",
              "      <td>-45.032192</td>\n",
              "      <td>168.661000</td>\n",
              "      <td>0.0</td>\n",
              "      <td>88.40947</td>\n",
              "      <td>0.0</td>\n",
              "      <td>0.0</td>\n",
              "      <td>23.2500</td>\n",
              "      <td>3.0</td>\n",
              "      <td>3.0</td>\n",
              "      <td>0.0</td>\n",
              "      <td>3.0</td>\n",
              "      <td>23.2500</td>\n",
              "      <td>3.0</td>\n",
              "      <td>9.0</td>\n",
              "      <td>-135.096577</td>\n",
              "      <td>505.983000</td>\n",
              "      <td>0.000000</td>\n",
              "      <td>0.0</td>\n",
              "      <td>0.0</td>\n",
              "      <td>0.0000</td>\n",
              "      <td>0.0</td>\n",
              "      <td>0.0</td>\n",
              "      <td>0.0</td>\n",
              "      <td>0.0</td>\n",
              "      <td>0.0000</td>\n",
              "      <td>0.0</td>\n",
              "      <td>0.0</td>\n",
              "      <td>...</td>\n",
              "      <td>7.7500</td>\n",
              "      <td>23.2500</td>\n",
              "      <td>-348.999490</td>\n",
              "      <td>1307.122750</td>\n",
              "      <td>1.0</td>\n",
              "      <td>0.0</td>\n",
              "      <td>1.0</td>\n",
              "      <td>7.7500</td>\n",
              "      <td>1.0</td>\n",
              "      <td>3.0</td>\n",
              "      <td>-45.032192</td>\n",
              "      <td>168.661000</td>\n",
              "      <td>0.0</td>\n",
              "      <td>1.0</td>\n",
              "      <td>7.7500</td>\n",
              "      <td>1.0</td>\n",
              "      <td>3.0</td>\n",
              "      <td>-45.032192</td>\n",
              "      <td>168.661000</td>\n",
              "      <td>0.0</td>\n",
              "      <td>0.0000</td>\n",
              "      <td>0.0</td>\n",
              "      <td>0.0</td>\n",
              "      <td>-0.000000</td>\n",
              "      <td>0.000000</td>\n",
              "      <td>7.7500</td>\n",
              "      <td>1.0</td>\n",
              "      <td>3.0</td>\n",
              "      <td>-45.032192</td>\n",
              "      <td>168.661000</td>\n",
              "      <td>7.7500</td>\n",
              "      <td>23.2500</td>\n",
              "      <td>-348.999490</td>\n",
              "      <td>1307.122750</td>\n",
              "      <td>3.0</td>\n",
              "      <td>-45.032192</td>\n",
              "      <td>168.661000</td>\n",
              "      <td>-135.096577</td>\n",
              "      <td>505.983000</td>\n",
              "      <td>-7595.174586</td>\n",
              "    </tr>\n",
              "    <tr>\n",
              "      <th>3</th>\n",
              "      <td>1.0</td>\n",
              "      <td>0.0</td>\n",
              "      <td>51.000000</td>\n",
              "      <td>1.0</td>\n",
              "      <td>0.0</td>\n",
              "      <td>77.9583</td>\n",
              "      <td>2.0</td>\n",
              "      <td>2.0</td>\n",
              "      <td>1.0</td>\n",
              "      <td>0.0</td>\n",
              "      <td>77.9583</td>\n",
              "      <td>5.0</td>\n",
              "      <td>1.0</td>\n",
              "      <td>50.902535</td>\n",
              "      <td>-1.404189</td>\n",
              "      <td>0.0</td>\n",
              "      <td>51.00000</td>\n",
              "      <td>1.0</td>\n",
              "      <td>0.0</td>\n",
              "      <td>77.9583</td>\n",
              "      <td>2.0</td>\n",
              "      <td>2.0</td>\n",
              "      <td>1.0</td>\n",
              "      <td>0.0</td>\n",
              "      <td>77.9583</td>\n",
              "      <td>5.0</td>\n",
              "      <td>1.0</td>\n",
              "      <td>50.902535</td>\n",
              "      <td>-1.404189</td>\n",
              "      <td>0.000000</td>\n",
              "      <td>0.0</td>\n",
              "      <td>0.0</td>\n",
              "      <td>0.0000</td>\n",
              "      <td>0.0</td>\n",
              "      <td>0.0</td>\n",
              "      <td>0.0</td>\n",
              "      <td>0.0</td>\n",
              "      <td>0.0000</td>\n",
              "      <td>0.0</td>\n",
              "      <td>0.0</td>\n",
              "      <td>...</td>\n",
              "      <td>389.7915</td>\n",
              "      <td>77.9583</td>\n",
              "      <td>3968.275086</td>\n",
              "      <td>-109.468187</td>\n",
              "      <td>4.0</td>\n",
              "      <td>2.0</td>\n",
              "      <td>0.0</td>\n",
              "      <td>155.9166</td>\n",
              "      <td>10.0</td>\n",
              "      <td>2.0</td>\n",
              "      <td>101.805070</td>\n",
              "      <td>-2.808378</td>\n",
              "      <td>2.0</td>\n",
              "      <td>0.0</td>\n",
              "      <td>155.9166</td>\n",
              "      <td>10.0</td>\n",
              "      <td>2.0</td>\n",
              "      <td>101.805070</td>\n",
              "      <td>-2.808378</td>\n",
              "      <td>0.0</td>\n",
              "      <td>77.9583</td>\n",
              "      <td>5.0</td>\n",
              "      <td>1.0</td>\n",
              "      <td>50.902535</td>\n",
              "      <td>-1.404189</td>\n",
              "      <td>0.0000</td>\n",
              "      <td>0.0</td>\n",
              "      <td>0.0</td>\n",
              "      <td>0.000000</td>\n",
              "      <td>-0.000000</td>\n",
              "      <td>389.7915</td>\n",
              "      <td>77.9583</td>\n",
              "      <td>3968.275086</td>\n",
              "      <td>-109.468187</td>\n",
              "      <td>5.0</td>\n",
              "      <td>254.512675</td>\n",
              "      <td>-7.020945</td>\n",
              "      <td>50.902535</td>\n",
              "      <td>-1.404189</td>\n",
              "      <td>-71.476780</td>\n",
              "    </tr>\n",
              "    <tr>\n",
              "      <th>4</th>\n",
              "      <td>3.0</td>\n",
              "      <td>1.0</td>\n",
              "      <td>21.000000</td>\n",
              "      <td>0.0</td>\n",
              "      <td>0.0</td>\n",
              "      <td>7.7333</td>\n",
              "      <td>1.0</td>\n",
              "      <td>1.0</td>\n",
              "      <td>0.0</td>\n",
              "      <td>1.0</td>\n",
              "      <td>7.7333</td>\n",
              "      <td>1.0</td>\n",
              "      <td>3.0</td>\n",
              "      <td>-45.032192</td>\n",
              "      <td>168.661000</td>\n",
              "      <td>3.0</td>\n",
              "      <td>63.00000</td>\n",
              "      <td>0.0</td>\n",
              "      <td>0.0</td>\n",
              "      <td>23.1999</td>\n",
              "      <td>3.0</td>\n",
              "      <td>3.0</td>\n",
              "      <td>0.0</td>\n",
              "      <td>3.0</td>\n",
              "      <td>23.1999</td>\n",
              "      <td>3.0</td>\n",
              "      <td>9.0</td>\n",
              "      <td>-135.096577</td>\n",
              "      <td>505.983000</td>\n",
              "      <td>21.000000</td>\n",
              "      <td>0.0</td>\n",
              "      <td>0.0</td>\n",
              "      <td>7.7333</td>\n",
              "      <td>1.0</td>\n",
              "      <td>1.0</td>\n",
              "      <td>0.0</td>\n",
              "      <td>1.0</td>\n",
              "      <td>7.7333</td>\n",
              "      <td>1.0</td>\n",
              "      <td>3.0</td>\n",
              "      <td>...</td>\n",
              "      <td>7.7333</td>\n",
              "      <td>23.1999</td>\n",
              "      <td>-348.247453</td>\n",
              "      <td>1304.306111</td>\n",
              "      <td>1.0</td>\n",
              "      <td>0.0</td>\n",
              "      <td>1.0</td>\n",
              "      <td>7.7333</td>\n",
              "      <td>1.0</td>\n",
              "      <td>3.0</td>\n",
              "      <td>-45.032192</td>\n",
              "      <td>168.661000</td>\n",
              "      <td>0.0</td>\n",
              "      <td>1.0</td>\n",
              "      <td>7.7333</td>\n",
              "      <td>1.0</td>\n",
              "      <td>3.0</td>\n",
              "      <td>-45.032192</td>\n",
              "      <td>168.661000</td>\n",
              "      <td>0.0</td>\n",
              "      <td>0.0000</td>\n",
              "      <td>0.0</td>\n",
              "      <td>0.0</td>\n",
              "      <td>-0.000000</td>\n",
              "      <td>0.000000</td>\n",
              "      <td>7.7333</td>\n",
              "      <td>1.0</td>\n",
              "      <td>3.0</td>\n",
              "      <td>-45.032192</td>\n",
              "      <td>168.661000</td>\n",
              "      <td>7.7333</td>\n",
              "      <td>23.1999</td>\n",
              "      <td>-348.247453</td>\n",
              "      <td>1304.306111</td>\n",
              "      <td>3.0</td>\n",
              "      <td>-45.032192</td>\n",
              "      <td>168.661000</td>\n",
              "      <td>-135.096577</td>\n",
              "      <td>505.983000</td>\n",
              "      <td>-7595.174586</td>\n",
              "    </tr>\n",
              "  </tbody>\n",
              "</table>\n",
              "<p>5 rows × 120 columns</p>\n",
              "</div>"
            ],
            "text/plain": [
              "   Pclass  Sex  ...  Cabin_b longitude  latitude longitude\n",
              "0     3.0  0.0  ...         505.983000        -7595.174586\n",
              "1     3.0  1.0  ...          -4.212567          -71.476780\n",
              "2     3.0  0.0  ...         505.983000        -7595.174586\n",
              "3     1.0  0.0  ...          -1.404189          -71.476780\n",
              "4     3.0  1.0  ...         505.983000        -7595.174586\n",
              "\n",
              "[5 rows x 120 columns]"
            ]
          },
          "metadata": {
            "tags": []
          },
          "execution_count": 55
        }
      ]
    },
    {
      "cell_type": "code",
      "metadata": {
        "colab": {
          "base_uri": "https://localhost:8080/"
        },
        "id": "xS5JVpGUX3sk",
        "outputId": "25812612-bc8b-4db2-b6b5-a130466fd114"
      },
      "source": [
        "# обучим модель №5\n",
        "randomForestClassifier2 = RandomForestClassifier(n_estimators = 1000, max_depth = 2, max_features='log2', random_state=0)\n",
        "randomForestClassifier2.fit(x_train_2, y_train)\n",
        "print(\"Train Accuracy: \", randomForestClassifier2.score(x_train_2, y_train))\n",
        "print(\"Test Accuracy: \", randomForestClassifier2.score(x_test_2, y_test))"
      ],
      "execution_count": null,
      "outputs": [
        {
          "output_type": "stream",
          "text": [
            "Train Accuracy:  0.8202247191011236\n",
            "Test Accuracy:  0.8156424581005587\n"
          ],
          "name": "stdout"
        }
      ]
    },
    {
      "cell_type": "code",
      "metadata": {
        "colab": {
          "base_uri": "https://localhost:8080/"
        },
        "id": "Zm-hAyuPsQZK",
        "outputId": "3d5a8084-f8b0-4ffe-ffd5-a1b33aa52f18"
      },
      "source": [
        "# выведем рейтинг важности признаков с учетом их взаимодействий\n",
        "feature_scores = pd.Series(randomForestClassifier2.feature_importances_, index=x_train_2.columns).sort_values(ascending=False)\n",
        "feature_scores.head(30)"
      ],
      "execution_count": null,
      "outputs": [
        {
          "output_type": "execute_result",
          "data": {
            "text/plain": [
              "Sex Cabin_b                            0.074979\n",
              "Sex Age                                0.073544\n",
              "Sex                                    0.051017\n",
              "Pclass Sex                             0.049635\n",
              "Sex Fare                               0.049266\n",
              "Sex Embarked                           0.046324\n",
              "Sex FarePerPassenger                   0.044244\n",
              "Sex latitude                           0.039987\n",
              "Sex Alone                              0.033924\n",
              "Sex longitude                          0.033184\n",
              "Sex Age_b                              0.032596\n",
              "Fare FarePerPassenger_b                0.021694\n",
              "FarePerPassenger                       0.020956\n",
              "Sex FarePerPassenger_b                 0.020271\n",
              "FarePerPassenger latitude              0.020234\n",
              "FarePerPassenger longitude             0.017868\n",
              "Age Cabin_b                            0.017089\n",
              "Fare                                   0.016446\n",
              "Pclass Cabin_b                         0.016131\n",
              "Pclass longitude                       0.014841\n",
              "Pclass latitude                        0.014838\n",
              "FarePerPassenger FarePerPassenger_b    0.014113\n",
              "Pclass                                 0.013200\n",
              "Fare FarePerPassenger                  0.013175\n",
              "FarePerPassenger_b longitude           0.012603\n",
              "Pclass Age                             0.012385\n",
              "Fare longitude                         0.011959\n",
              "Cabin_b                                0.011666\n",
              "FarePerPassenger_b latitude            0.011498\n",
              "Fare latitude                          0.011225\n",
              "dtype: float64"
            ]
          },
          "metadata": {
            "tags": []
          },
          "execution_count": 57
        }
      ]
    },
    {
      "cell_type": "code",
      "metadata": {
        "id": "4k3KgPqB4UXf"
      },
      "source": [
        "# добавим фичи на основе текстовой переменной name, сгенерированные по методике Tfidf\n",
        "import scipy.sparse\n",
        "x_train_3 = scipy.sparse.hstack([x_train_2, vec_train])"
      ],
      "execution_count": null,
      "outputs": []
    },
    {
      "cell_type": "code",
      "metadata": {
        "id": "fI5S29Qo4Xe8"
      },
      "source": [
        "x_test_3 = scipy.sparse.hstack([x_test_2, vec_test])"
      ],
      "execution_count": null,
      "outputs": []
    },
    {
      "cell_type": "code",
      "metadata": {
        "colab": {
          "base_uri": "https://localhost:8080/"
        },
        "id": "myvGrpmy5Mjo",
        "outputId": "02502cca-27cd-47aa-eb7c-a757e0c53243"
      },
      "source": [
        "# обучим модель №6\n",
        "randomForestClassifier3 = RandomForestClassifier(n_estimators = 500, max_depth = 3, max_features='sqrt', random_state=1)\n",
        "randomForestClassifier3.fit(x_train_3, y_train)\n",
        "print(\"Train Accuracy: \", randomForestClassifier3.score(x_train_3, y_train))\n",
        "print(\"Test Accuracy: \", randomForestClassifier3.score(x_test_3, y_test))"
      ],
      "execution_count": null,
      "outputs": [
        {
          "output_type": "stream",
          "text": [
            "Train Accuracy:  0.8328651685393258\n",
            "Test Accuracy:  0.8212290502793296\n"
          ],
          "name": "stdout"
        }
      ]
    },
    {
      "cell_type": "code",
      "metadata": {
        "colab": {
          "base_uri": "https://localhost:8080/"
        },
        "id": "WCUYsVk4-iFr",
        "outputId": "64f657cc-f331-48b4-d55a-31baccdbfa9a"
      },
      "source": [
        "# выведем важность признаков\n",
        "feature_scores = pd.Series(randomForestClassifier3.feature_importances_, index=x_train_2.columns.tolist() + vec.get_feature_names()).sort_values(ascending=False)\n",
        "feature_scores.head(50)"
      ],
      "execution_count": null,
      "outputs": [
        {
          "output_type": "execute_result",
          "data": {
            "text/plain": [
              "Sex Cabin_b                            0.055120\n",
              "Sex Age                                0.043211\n",
              "Sex                                    0.041323\n",
              "mr                                     0.040532\n",
              "Sex FarePerPassenger                   0.040403\n",
              "Pclass Sex                             0.035692\n",
              "Sex latitude                           0.028984\n",
              "Sex Fare                               0.028089\n",
              "Sex Embarked                           0.027921\n",
              "Fare FarePerPassenger_b                0.025428\n",
              "Sex FarePerPassenger_b                 0.024940\n",
              "Sex Age_b                              0.024577\n",
              "Sex longitude                          0.024529\n",
              "Sex Alone                              0.020237\n",
              "FarePerPassenger                       0.018669\n",
              "Pclass latitude                        0.017278\n",
              "Age Cabin_b                            0.016045\n",
              "Fare longitude                         0.015972\n",
              "FarePerPassenger latitude              0.015167\n",
              "FarePerPassenger FarePerPassenger_b    0.014867\n",
              "Pclass longitude                       0.014331\n",
              "FarePerPassenger longitude             0.014103\n",
              "Fare                                   0.013521\n",
              "FarePerPassenger_b longitude           0.012314\n",
              "FarePerPassenger_b                     0.012276\n",
              "Pclass Cabin_b                         0.011525\n",
              "Fare FarePerPassenger                  0.011513\n",
              "mrs                                    0.011401\n",
              "Fare latitude                          0.011171\n",
              "FarePerPassenger_b latitude            0.011122\n",
              "Pclass Age                             0.010991\n",
              "miss                                   0.010929\n",
              "Pclass                                 0.010206\n",
              "Age_b Cabin_b                          0.009490\n",
              "Pclass FarePerPassenger                0.008826\n",
              "Age_b FarePerPassenger                 0.007794\n",
              "Family_count FarePerPassenger_b        0.007221\n",
              "Pclass Embarked                        0.006988\n",
              "Pclass Fare                            0.006933\n",
              "Fare Cabin_b                           0.006698\n",
              "Age FarePerPassenger                   0.006633\n",
              "Embarked Cabin_b                       0.006372\n",
              "Cabin_b latitude                       0.006335\n",
              "Fare Family_count                      0.005399\n",
              "SibSp FarePerPassenger                 0.005386\n",
              "Pclass Age_b                           0.005189\n",
              "FarePerPassenger_b Cabin_b             0.005068\n",
              "Pclass FarePerPassenger_b              0.005041\n",
              "FarePerPassenger Cabin_b               0.004764\n",
              "Cabin_b                                0.004703\n",
              "dtype: float64"
            ]
          },
          "metadata": {
            "tags": []
          },
          "execution_count": 61
        }
      ]
    }
  ]
}